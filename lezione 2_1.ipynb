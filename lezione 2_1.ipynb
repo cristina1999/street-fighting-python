{
 "cells": [
  {
   "cell_type": "code",
   "execution_count": 1,
   "metadata": {
    "collapsed": true
   },
   "outputs": [],
   "source": [
    "from random import random"
   ]
  },
  {
   "cell_type": "code",
   "execution_count": 2,
   "metadata": {
    "collapsed": true
   },
   "outputs": [],
   "source": [
    "def collision(i):\n",
    "    compleanni = [round(random()*364) +1 for x in i] \n",
    "    totale = 0\n",
    "    for x in compleanni:\n",
    "        if compleanni.count(x) >= 2:\n",
    "            totale = totale + 1        \n",
    "    return totale"
   ]
  },
  {
   "cell_type": "code",
   "execution_count": 3,
   "metadata": {
    "collapsed": true
   },
   "outputs": [],
   "source": [
    "insieme_classi = range(50)"
   ]
  },
  {
   "cell_type": "code",
   "execution_count": 4,
   "metadata": {
    "collapsed": false
   },
   "outputs": [
    {
     "data": {
      "text/plain": [
       "8"
      ]
     },
     "execution_count": 4,
     "metadata": {},
     "output_type": "execute_result"
    }
   ],
   "source": [
    "collision(insieme_classi)"
   ]
  },
  {
   "cell_type": "code",
   "execution_count": 5,
   "metadata": {
    "collapsed": true
   },
   "outputs": [],
   "source": [
    "def prob(i):\n",
    "    collision(i)\n",
    "    len(i)\n",
    "    return collision(i)/len(i)"
   ]
  },
  {
   "cell_type": "code",
   "execution_count": 6,
   "metadata": {
    "collapsed": false
   },
   "outputs": [
    {
     "data": {
      "text/plain": [
       "0.16"
      ]
     },
     "execution_count": 6,
     "metadata": {},
     "output_type": "execute_result"
    }
   ],
   "source": [
    "prob(insieme_classi)"
   ]
  },
  {
   "cell_type": "code",
   "execution_count": 7,
   "metadata": {
    "collapsed": true
   },
   "outputs": [],
   "source": [
    "def calcola_data(x):\n",
    "    if x <= 31:\n",
    "        return '%s gennaio' % x\n",
    "    if 31 < x <= 59:\n",
    "        return str(x - 31) + ' febbraio'\n",
    "    if 59 < x <= 90:\n",
    "        return str(x - 59) + ' marzo'\n",
    "    if 90 < x <= 120:\n",
    "        return str(x - 90) + ' aprile'\n",
    "    if 120 < x <= 151:\n",
    "        return str(x - 120) + ' maggio'\n",
    "    if 151 < x <= 181:\n",
    "        return str(x - 151) + ' giugno'\n",
    "    if 181 < x <= 212:\n",
    "        return str(x - 181) + ' luglio'\n",
    "    if 212 < x <= 243:\n",
    "        return str(x - 212) + ' agosto'\n",
    "    if 243 < x <= 273:\n",
    "        return str(x - 243) + ' settembre'\n",
    "    if 273 < x <= 304:\n",
    "        return str(x - 273) + ' ottobre'\n",
    "    if 304 < x <= 334:\n",
    "        return str(x - 304) + ' novembre'\n",
    "    if 334 < x <= 365:\n",
    "        return str(x - 334) + ' dicembre'"
   ]
  },
  {
   "cell_type": "code",
   "execution_count": 10,
   "metadata": {
    "collapsed": true
   },
   "outputs": [],
   "source": [
    "def calcola_giorno(x):\n",
    "    y = x.split(' ')\n",
    "    if y[1] == \"gennaio\":\n",
    "        return y[0]\n",
    "    if y[1] == 'febbraio':\n",
    "        return int(y[0]) +31\n",
    "    if y[1] == 'marzo':\n",
    "        return int(y[0]) +59\n",
    "    if y[1] == \"aprile\":\n",
    "        return int(y[0]) +90\n",
    "    if y[1] == \"maggio\":\n",
    "        return int(y[0]) +120\n",
    "    if y[1] == \"giugno\":\n",
    "        return int(y[0]) +151\n",
    "    if y[1] == \"luglio\":\n",
    "        return int(y[0]) +181\n",
    "    if y[1] == \"agosto\":\n",
    "        return int(y[0]) +212\n",
    "    if y[1] == \"settembre\":\n",
    "        return int(y[0]) +243\n",
    "    if y[1] == \"ottobre\":\n",
    "        return int(y[0]) +273\n",
    "    if y[1] == \"novembre\":\n",
    "        return int(y[0]) +304\n",
    "    if y[1] == \"dicembre\":\n",
    "        return int(y[0]) +334"
   ]
  },
  {
   "cell_type": "code",
   "execution_count": null,
   "metadata": {
    "collapsed": true
   },
   "outputs": [],
   "source": []
  }
 ],
 "metadata": {
  "kernelspec": {
   "display_name": "Python 3",
   "language": "python",
   "name": "python3"
  },
  "language_info": {
   "codemirror_mode": {
    "name": "ipython",
    "version": 3
   },
   "file_extension": ".py",
   "mimetype": "text/x-python",
   "name": "python",
   "nbconvert_exporter": "python",
   "pygments_lexer": "ipython3",
   "version": "3.5.1"
  }
 },
 "nbformat": 4,
 "nbformat_minor": 0
}

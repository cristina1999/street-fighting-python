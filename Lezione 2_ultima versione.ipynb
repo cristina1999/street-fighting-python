{
 "cells": [
  {
   "cell_type": "markdown",
   "metadata": {},
   "source": [
    "A chi si rivolge: ragazzi delle superiori\n",
    "\n",
    "Conoscenze pregresse: conoscenze di base di matematica (calcolo della probabilità) e conoscenze di base di programmazione (funzioni, for cycles)\n"
   ]
  },
  {
   "cell_type": "markdown",
   "metadata": {},
   "source": [
    "# Lezione 2\n",
    "## Il paradosso dei compleanni, metodo Montecarlo\n",
    "\n",
    "Quante probabilità ci sono che in una classe di x persone ce ne siano almeno due che compiano gli anni nello stesso giorno dell'anno?\n",
    "Grazie a python, possiamo simulare di avere un numero n di classi con un numero x di alunni, e questo ci permette di capire in che modo varia la probabilità.\n",
    "Per poter avere una situazione che sia il più possibile fedele alla realtà, ma allo stesso tempo non trovarci a dover fare cose troppo complesse, consideriamo come data del compleanno il giorno dell'anno su 365 e non il giorno col mese (il primo gennaio sarà 1, il due gennaio 2 e così via).\n",
    "Ma come possiamo calcolare il giorno dell'anno avendo il giorno e il mese? Finchè siamo a gennaio è ancora facile farlo a mente, ma se dovessimo calcolare, ad esempio, a che numero corrisponde il 14 febbraio? Per semplificare questo proceddimento di conversione, abbiamo scritto in python una funzione"
   ]
  },
  {
   "cell_type": "code",
   "execution_count": 10,
   "metadata": {
    "collapsed": true
   },
   "outputs": [],
   "source": [
    "def calcola_giorno(x):\n",
    "    y = x.split(' ')\n",
    "    if y[1] == \"gennaio\":\n",
    "        return y[0]\n",
    "    if y[1] == 'febbraio':\n",
    "        return int(y[0]) +31\n",
    "    if y[1] == 'marzo':\n",
    "        return int(y[0]) +59\n",
    "    if y[1] == \"aprile\":\n",
    "        return int(y[0]) +90\n",
    "    if y[1] == \"maggio\":\n",
    "        return int(y[0]) +120\n",
    "    if y[1] == \"giugno\":\n",
    "        return int(y[0]) +151\n",
    "    if y[1] == \"luglio\":\n",
    "        return int(y[0]) +181\n",
    "    if y[1] == \"agosto\":\n",
    "        return int(y[0]) +212\n",
    "    if y[1] == \"settembre\":\n",
    "        return int(y[0]) +243\n",
    "    if y[1] == \"ottobre\":\n",
    "        return int(y[0]) +273\n",
    "    if y[1] == \"novembre\":\n",
    "        return int(y[0]) +304\n",
    "    if y[1] == \"dicembre\":\n",
    "        return int(y[0]) +334"
   ]
  },
  {
   "cell_type": "markdown",
   "metadata": {},
   "source": [
    "Proviamo a fare qualche tentativo"
   ]
  },
  {
   "cell_type": "code",
   "execution_count": 11,
   "metadata": {
    "collapsed": false
   },
   "outputs": [
    {
     "data": {
      "text/plain": [
       "201"
      ]
     },
     "execution_count": 11,
     "metadata": {},
     "output_type": "execute_result"
    }
   ],
   "source": [
    "calcola_giorno(\"20 luglio\")"
   ]
  },
  {
   "cell_type": "code",
   "execution_count": 3,
   "metadata": {
    "collapsed": false
   },
   "outputs": [
    {
     "ename": "NameError",
     "evalue": "name 'calcola_giorno' is not defined",
     "output_type": "error",
     "traceback": [
      "\u001b[1;31m---------------------------------------------------------------------------\u001b[0m",
      "\u001b[1;31mNameError\u001b[0m                                 Traceback (most recent call last)",
      "\u001b[1;32m<ipython-input-3-5674ebce7265>\u001b[0m in \u001b[0;36m<module>\u001b[1;34m()\u001b[0m\n\u001b[1;32m----> 1\u001b[1;33m \u001b[0mcalcola_giorno\u001b[0m\u001b[1;33m(\u001b[0m\u001b[1;34m\"11 novembre\"\u001b[0m\u001b[1;33m)\u001b[0m\u001b[1;33m\u001b[0m\u001b[0m\n\u001b[0m",
      "\u001b[1;31mNameError\u001b[0m: name 'calcola_giorno' is not defined"
     ]
    }
   ],
   "source": [
    "calcola_giorno(\"11 novembre\")"
   ]
  },
  {
   "cell_type": "markdown",
   "metadata": {},
   "source": [
    "Per completezza, abbiamo scritto anche la funzione che converte il numero nella data dell'anno"
   ]
  },
  {
   "cell_type": "code",
   "execution_count": 4,
   "metadata": {
    "collapsed": true
   },
   "outputs": [],
   "source": [
    "def calcola_data(x):\n",
    "    if x <= 31:\n",
    "        return '%s gennaio' % x\n",
    "    if 31 < x <= 59:\n",
    "        return str(x - 31) + ' febbraio'\n",
    "    if 59 < x <= 90:\n",
    "        return str(x - 59) + ' marzo'\n",
    "    if 90 < x <= 120:\n",
    "        return str(x - 90) + ' aprile'\n",
    "    if 120 < x <= 151:\n",
    "        return str(x - 120) + ' maggio'\n",
    "    if 151 < x <= 181:\n",
    "        return str(x - 151) + ' giugno'\n",
    "    if 181 < x <= 212:\n",
    "        return str(x - 181) + ' luglio'\n",
    "    if 212 < x <= 243:\n",
    "        return str(x - 212) + ' agosto'\n",
    "    if 243 < x <= 273:\n",
    "        return str(x - 243) + ' settembre'\n",
    "    if 273 < x <= 304:\n",
    "        return str(x - 273) + ' ottobre'\n",
    "    if 304 < x <= 334:\n",
    "        return str(x - 304) + ' novembre'\n",
    "    if 334 < x <= 365:\n",
    "        return str(x - 334) + ' dicembre'"
   ]
  },
  {
   "cell_type": "code",
   "execution_count": 5,
   "metadata": {
    "collapsed": false
   },
   "outputs": [
    {
     "data": {
      "text/plain": [
       "'20 luglio'"
      ]
     },
     "execution_count": 5,
     "metadata": {},
     "output_type": "execute_result"
    }
   ],
   "source": [
    "calcola_data(201)"
   ]
  },
  {
   "cell_type": "code",
   "execution_count": 6,
   "metadata": {
    "collapsed": false
   },
   "outputs": [
    {
     "data": {
      "text/plain": [
       "'11 novembre'"
      ]
     },
     "execution_count": 6,
     "metadata": {},
     "output_type": "execute_result"
    }
   ],
   "source": [
    "calcola_data(315)"
   ]
  },
  {
   "cell_type": "markdown",
   "metadata": {},
   "source": [
    "A questo punto, possiamo iniziare a risolvere il problema vero e proprio. Iniziamo col simulare la classe:"
   ]
  },
  {
   "cell_type": "code",
   "execution_count": 7,
   "metadata": {
    "collapsed": true
   },
   "outputs": [],
   "source": [
    "from random import random"
   ]
  },
  {
   "cell_type": "markdown",
   "metadata": {},
   "source": [
    "Definiamo ora una funzione che ci permetterà, dopo aver assegnato ad ogni elemento della classe un numero casuale, compreso fra 0 (escluso) e 365 (incluso), che rappresenterà il giorno del compleanno, di calcolare il numero di collisioni (che chiamaremo \"totale\") che avvengono: cosa vuol dire? Python andrà a controllare se nella lista in cui ad ogni elemento della nostra classe ha assegnato un numero ci sono delle collisioni, ovvero dei numeri che ricorrono più di una volta (\"if compleanni.count(X) >= 2\") e andrà a sommare il numero di collisioni."
   ]
  },
  {
   "cell_type": "code",
   "execution_count": 8,
   "metadata": {
    "collapsed": true
   },
   "outputs": [],
   "source": [
    "def collision(i):\n",
    "    compleanni = [round(random()*364) +1 for x in i]\n",
    "    if len(set(compleanni)) != len(compleanni):\n",
    "        return True\n",
    "    else:\n",
    "        return False"
   ]
  },
  {
   "cell_type": "markdown",
   "metadata": {},
   "source": [
    "A questo punto, possiamo eseguire \"collision\" sulla nostra classe"
   ]
  },
  {
   "cell_type": "code",
   "execution_count": 9,
   "metadata": {
    "collapsed": false
   },
   "outputs": [],
   "source": [
    "classe = range(30)"
   ]
  },
  {
   "cell_type": "code",
   "execution_count": 10,
   "metadata": {
    "collapsed": false
   },
   "outputs": [
    {
     "data": {
      "text/plain": [
       "True"
      ]
     },
     "execution_count": 10,
     "metadata": {},
     "output_type": "execute_result"
    }
   ],
   "source": [
    "collision(classe)"
   ]
  },
  {
   "cell_type": "markdown",
   "metadata": {},
   "source": [
    "Sappiamo che la probabilità si calcola facendo il rapporto fra il numero di casi favorevoli e il numero di casi totali, quindi definiamo la funzione che calcolerà questo rapporto"
   ]
  },
  {
   "cell_type": "code",
   "execution_count": 11,
   "metadata": {
    "collapsed": true
   },
   "outputs": [],
   "source": [
    "def prob(numero_persone, numero_prove = 1000):\n",
    "    classe = range(numero_persone)\n",
    "    tentativi = [collision(classe) for x in range(numero_prove)]\n",
    "    return sum(tentativi)/len(tentativi)*100"
   ]
  },
  {
   "cell_type": "markdown",
   "metadata": {},
   "source": [
    "Chiamiamo ora la funzione per avere la probabilità"
   ]
  },
  {
   "cell_type": "code",
   "execution_count": 12,
   "metadata": {
    "collapsed": false
   },
   "outputs": [
    {
     "data": {
      "text/plain": [
       "45.0"
      ]
     },
     "execution_count": 12,
     "metadata": {},
     "output_type": "execute_result"
    }
   ],
   "source": [
    "prob(23,20)"
   ]
  },
  {
   "cell_type": "code",
   "execution_count": 13,
   "metadata": {
    "collapsed": false
   },
   "outputs": [
    {
     "data": {
      "text/plain": [
       "48.199999999999996"
      ]
     },
     "execution_count": 13,
     "metadata": {},
     "output_type": "execute_result"
    }
   ],
   "source": [
    "prob(23)"
   ]
  },
  {
   "cell_type": "code",
   "execution_count": 14,
   "metadata": {
    "collapsed": true
   },
   "outputs": [],
   "source": [
    "ls = range(100)"
   ]
  },
  {
   "cell_type": "code",
   "execution_count": 15,
   "metadata": {
    "collapsed": false
   },
   "outputs": [],
   "source": [
    "prob_tot = [prob(x) for x in ls]"
   ]
  },
  {
   "cell_type": "code",
   "execution_count": 16,
   "metadata": {
    "collapsed": false
   },
   "outputs": [
    {
     "data": {
      "text/plain": [
       "[0.0,\n",
       " 0.0,\n",
       " 0.2,\n",
       " 1.0,\n",
       " 1.7000000000000002,\n",
       " 2.3,\n",
       " 4.9,\n",
       " 5.0,\n",
       " 6.9,\n",
       " 8.7,\n",
       " 10.9,\n",
       " 15.0,\n",
       " 17.1,\n",
       " 21.0,\n",
       " 21.0,\n",
       " 25.1,\n",
       " 29.2,\n",
       " 30.3,\n",
       " 34.699999999999996,\n",
       " 38.5,\n",
       " 40.300000000000004,\n",
       " 42.5,\n",
       " 48.199999999999996,\n",
       " 49.0,\n",
       " 54.1,\n",
       " 55.7,\n",
       " 59.9,\n",
       " 63.2,\n",
       " 63.1,\n",
       " 68.89999999999999,\n",
       " 68.89999999999999,\n",
       " 75.7,\n",
       " 76.6,\n",
       " 78.60000000000001,\n",
       " 80.2,\n",
       " 80.5,\n",
       " 82.6,\n",
       " 85.5,\n",
       " 87.7,\n",
       " 87.2,\n",
       " 88.7,\n",
       " 90.7,\n",
       " 91.2,\n",
       " 91.60000000000001,\n",
       " 94.8,\n",
       " 95.19999999999999,\n",
       " 94.6,\n",
       " 95.19999999999999,\n",
       " 96.2,\n",
       " 96.0,\n",
       " 96.3,\n",
       " 98.1,\n",
       " 98.1,\n",
       " 97.89999999999999,\n",
       " 98.1,\n",
       " 98.9,\n",
       " 99.2,\n",
       " 98.7,\n",
       " 99.6,\n",
       " 99.0,\n",
       " 99.3,\n",
       " 99.4,\n",
       " 99.8,\n",
       " 99.8,\n",
       " 99.8,\n",
       " 99.7,\n",
       " 99.9,\n",
       " 99.7,\n",
       " 99.6,\n",
       " 100.0,\n",
       " 99.7,\n",
       " 99.9,\n",
       " 100.0,\n",
       " 99.8,\n",
       " 100.0,\n",
       " 100.0,\n",
       " 99.9,\n",
       " 99.9,\n",
       " 100.0,\n",
       " 100.0,\n",
       " 99.9,\n",
       " 100.0,\n",
       " 100.0,\n",
       " 100.0,\n",
       " 100.0,\n",
       " 100.0,\n",
       " 100.0,\n",
       " 100.0,\n",
       " 100.0,\n",
       " 100.0,\n",
       " 100.0,\n",
       " 100.0,\n",
       " 100.0,\n",
       " 100.0,\n",
       " 100.0,\n",
       " 100.0,\n",
       " 100.0,\n",
       " 100.0,\n",
       " 100.0,\n",
       " 100.0]"
      ]
     },
     "execution_count": 16,
     "metadata": {},
     "output_type": "execute_result"
    }
   ],
   "source": [
    "prob_tot"
   ]
  },
  {
   "cell_type": "code",
   "execution_count": 17,
   "metadata": {
    "collapsed": false
   },
   "outputs": [
    {
     "data": {
      "image/png": "[encoded data removed]",
      "text/plain": [
       "<matplotlib.figure.Figure at 0x7fa9da6eb710>"
      ]
     },
     "metadata": {},
     "output_type": "display_data"
    }
   ],
   "source": [
    "import matplotlib.pyplot as plt\n",
    "%matplotlib inline\n",
    "_ = plt.plot([ls],[prob_tot], \"ro\")\n",
    "\n"
   ]
  },
  {
   "cell_type": "code",
   "execution_count": 21,
   "metadata": {
    "collapsed": true
   },
   "outputs": [],
   "source": []
  },
  {
   "cell_type": "code",
   "execution_count": null,
   "metadata": {
    "collapsed": false
   },
   "outputs": [],
   "source": []
  },
  {
   "cell_type": "code",
   "execution_count": null,
   "metadata": {
    "collapsed": false
   },
   "outputs": [],
   "source": []
  },
  {
   "cell_type": "code",
   "execution_count": null,
   "metadata": {
    "collapsed": true
   },
   "outputs": [],
   "source": []
  }
 ],
 "metadata": {
  "kernelspec": {
   "display_name": "Python 3",
   "language": "python",
   "name": "python3"
  },
  "language_info": {
   "codemirror_mode": {
    "name": "ipython",
    "version": 3
   },
   "file_extension": ".py",
   "mimetype": "text/x-python",
   "name": "python",
   "nbconvert_exporter": "python",
   "pygments_lexer": "ipython3",
   "version": "3.5.1"
  }
 },
 "nbformat": 4,
 "nbformat_minor": 0
}

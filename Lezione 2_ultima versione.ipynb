{
 "cells": [
  {
   "cell_type": "markdown",
   "metadata": {},
   "source": [
    "A chi si rivolge: ragazzi delle superiori\n",
    "\n",
    "Conoscenze pregresse: conoscenze di base di matematica (calcolo della probabilità) e conoscenze di base di programmazione (funzioni, for cycles)\n"
   ]
  },
  {
   "cell_type": "markdown",
   "metadata": {},
   "source": [
    "# Lezione 2\n",
    "## Il paradosso dei compleanni, metodo Montecarlo\n",
    "\n",
    "Scommettereste che prese 20 persone in una classe ce ne sono almeno due che compiono gli anni lo stesso giorno? In base a cosa decidereste la risposta?\n",
    "\n",
    "Qualunque sia la vostra risposta, state implicitamente facendo un assunto: dicendo *si*, state ritenendo che la probabilità sia maggiore o uguale al 50% mentre, rispondendo negativamente, state ritenendo che sia minore al 50%.\n",
    "Ma si può effettivamente calcolare la probabilità? Se si, come?\n",
    "\n",
    "Iniziamo ad astrarre il problema: per avere una classe di venti persone possiamo uscire per strada e intervistare 20 persone prese a caso, o tirare un dado a 365 facce per venti volte, o estrarre un numero da una sacca con 365 numeri.\n",
    "\n",
    "Ma basta analizzare la situazione una volta sola per avere un dato valido statisticamente?\n",
    "Ad esempio, se tiraste una moneta ed uscisse croce, al lancio successivo, su cosa scommettereste? La moneta potrebbe essere equilibrata o truccata e poi, truccata su testa o su croce?\n",
    "\n",
    "Ammettiamo che scomettereste che su una classe di 20 persone non ce ne sono due che compiono gli anni nello stesso giorno, la vostra risposta cambierebbe se invece che una classe ne considerassimo venti? E con 100 classi?\n",
    "\n",
    "Un solo tentativo è troppo poco per valutare un problema statistico: ci verrebbe da dire che la moneta sia equilibrata o truccata su croce, ma di sicuro non su testa. E se invece fosse stata truccata su testa e quello fosse stato l'unico lancio in cui sia uscita croce?\n",
    "\n",
    "Per avere un dato valido statisticamente, dobbiamo effettuare almeno un centinaio di tentativi, ricordandoci che, comunque, più tentativi compiamo, maggiormente il risultato finale sarà preciso.\n",
    "\n",
    "Come possiamo allora effettuare un centinaio di tentativi?\n",
    "Vuol dire andare ad intervistare 100 gruppi da 20 persone, per un totale di 2000 persone intervistate. Sarebbe fattibile? Quanto ci vorrebbe?\n",
    "Come abbiamo detto prima possiamo anche lanciare il dado o estrarre dei numeri da una sacca, ma sarebbe comunque un procedimento molto lungo.\n",
    "\n",
    "Esiste un modo, uno strumento, che ci permette, in pochi secondi, di avere le risposte alle nostre domande: python.\n",
    "\n",
    "Grazie a python, possiamo immaginare di avere un numero n di classi con un numero x di alunni, e questo ci permette di capire in che modo varia la probabilità.\n",
    "Vedremo infatti come scrivere un codice che ci permetta di assegnare casualmente un compleanno ad ogni elemento di un insieme e che definirà, poi, una funzione che, dato un numero di elementi (il numero di studenti della classe) e il numero di tentativi (cioè il numero di classi da considerare), restituirà la probabilità che ci siano due elementi a cui è stato assegnato lo stesso giorno.\n",
    "\n",
    "\n",
    "*Nota bene: Per poter avere una situazione che sia il più possibile fedele alla realtà, ma allo stesso tempo non trovarci a dover scrivere codici troppo complessi, consideriamo come data del compleanno il giorno dell'anno su 365 e non il giorno del mese (il primo gennaio sarà 1, il due gennaio 2 e così via).\n",
    "Ma come possiamo calcolare il giorno dell'anno avendo il giorno e il mese? Finchè siamo a gennaio è ancora facile farlo a mente, ma se dovessimo calcolare, ad esempio, a che numero corrisponde il 14 febbraio? Per semplificare questo proceddimento di conversione, abbiamo scritto in python una funzione che esegue questi calcoli.*"
   ]
  },
  {
   "cell_type": "markdown",
   "metadata": {},
   "source": [
    "Proviamo a visualizzare graficamente la situazione: creiamo due liste, *x* a cui corrisponderanno le persone e *y* a cui corrisponderanno i compleanni generati casualmente. Le coordinate ci forniranno dei punti, che saranno, simbolicamente, le nostre persone."
   ]
  },
  {
   "cell_type": "code",
   "execution_count": 2,
   "metadata": {
    "collapsed": true
   },
   "outputs": [],
   "source": [
    "from random import random"
   ]
  },
  {
   "cell_type": "code",
   "execution_count": 5,
   "metadata": {
    "collapsed": true
   },
   "outputs": [],
   "source": [
    "x = range(30)"
   ]
  },
  {
   "cell_type": "code",
   "execution_count": 6,
   "metadata": {
    "collapsed": true
   },
   "outputs": [],
   "source": [
    "y = [round(random()*364) +1 for x in range(30)]"
   ]
  },
  {
   "cell_type": "code",
   "execution_count": 9,
   "metadata": {
    "collapsed": false,
    "scrolled": true
   },
   "outputs": [
    {
     "data": {
      "image/png": "[encoded data removed]",
      "text/plain": [
       "<matplotlib.figure.Figure at 0x7f012f547e80>"
      ]
     },
     "metadata": {},
     "output_type": "display_data"
    }
   ],
   "source": [
    "import matplotlib.pyplot as plt\n",
    "%matplotlib inline\n",
    "_ = plt.plot([x],[y], \"ro\")"
   ]
  },
  {
   "cell_type": "markdown",
   "metadata": {},
   "source": [
    "Proviamo ora ad aumentarre gli alunni nella classe (quindi gli elementi di *x*)"
   ]
  },
  {
   "cell_type": "code",
   "execution_count": 22,
   "metadata": {
    "collapsed": true
   },
   "outputs": [],
   "source": [
    "x = range(500)"
   ]
  },
  {
   "cell_type": "code",
   "execution_count": 23,
   "metadata": {
    "collapsed": true
   },
   "outputs": [],
   "source": [
    "y = [round(random()*364) +1 for x in range(500)]"
   ]
  },
  {
   "cell_type": "code",
   "execution_count": 24,
   "metadata": {
    "collapsed": false
   },
   "outputs": [
    {
     "data": {
      "image/png": "[encoded data removed]",
      "text/plain": [
       "<matplotlib.figure.Figure at 0x7f012be45d30>"
      ]
     },
     "metadata": {},
     "output_type": "display_data"
    }
   ],
   "source": [
    "_ = plt.plot([x],[y], \"ro\")"
   ]
  },
  {
   "cell_type": "code",
   "execution_count": 5,
   "metadata": {
    "collapsed": true
   },
   "outputs": [],
   "source": [
    "def calcola_giorno(x):\n",
    "    y = x.split(' ')\n",
    "    if y[1] == \"gennaio\":\n",
    "        return y[0]\n",
    "    if y[1] == 'febbraio':\n",
    "        return int(y[0]) +31\n",
    "    if y[1] == 'marzo':\n",
    "        return int(y[0]) +59\n",
    "    if y[1] == \"aprile\":\n",
    "        return int(y[0]) +90\n",
    "    if y[1] == \"maggio\":\n",
    "        return int(y[0]) +120\n",
    "    if y[1] == \"giugno\":\n",
    "        return int(y[0]) +151\n",
    "    if y[1] == \"luglio\":\n",
    "        return int(y[0]) +181\n",
    "    if y[1] == \"agosto\":\n",
    "        return int(y[0]) +212\n",
    "    if y[1] == \"settembre\":\n",
    "        return int(y[0]) +243\n",
    "    if y[1] == \"ottobre\":\n",
    "        return int(y[0]) +273\n",
    "    if y[1] == \"novembre\":\n",
    "        return int(y[0]) +304\n",
    "    if y[1] == \"dicembre\":\n",
    "        return int(y[0]) +334"
   ]
  },
  {
   "cell_type": "markdown",
   "metadata": {},
   "source": [
    "Proviamo a fare qualche tentativo"
   ]
  },
  {
   "cell_type": "code",
   "execution_count": 6,
   "metadata": {
    "collapsed": false
   },
   "outputs": [
    {
     "data": {
      "text/plain": [
       "201"
      ]
     },
     "execution_count": 6,
     "metadata": {},
     "output_type": "execute_result"
    }
   ],
   "source": [
    "calcola_giorno(\"20 luglio\")"
   ]
  },
  {
   "cell_type": "code",
   "execution_count": 7,
   "metadata": {
    "collapsed": false
   },
   "outputs": [
    {
     "data": {
      "text/plain": [
       "315"
      ]
     },
     "execution_count": 7,
     "metadata": {},
     "output_type": "execute_result"
    }
   ],
   "source": [
    "calcola_giorno(\"11 novembre\")"
   ]
  },
  {
   "cell_type": "markdown",
   "metadata": {},
   "source": [
    "Per completezza, abbiamo scritto anche la funzione che converte il numero nella data dell'anno"
   ]
  },
  {
   "cell_type": "code",
   "execution_count": 8,
   "metadata": {
    "collapsed": true
   },
   "outputs": [],
   "source": [
    "def calcola_data(x):\n",
    "    if x <= 31:\n",
    "        return '%s gennaio' % x\n",
    "    if 31 < x <= 59:\n",
    "        return str(x - 31) + ' febbraio'\n",
    "    if 59 < x <= 90:\n",
    "        return str(x - 59) + ' marzo'\n",
    "    if 90 < x <= 120:\n",
    "        return str(x - 90) + ' aprile'\n",
    "    if 120 < x <= 151:\n",
    "        return str(x - 120) + ' maggio'\n",
    "    if 151 < x <= 181:\n",
    "        return str(x - 151) + ' giugno'\n",
    "    if 181 < x <= 212:\n",
    "        return str(x - 181) + ' luglio'\n",
    "    if 212 < x <= 243:\n",
    "        return str(x - 212) + ' agosto'\n",
    "    if 243 < x <= 273:\n",
    "        return str(x - 243) + ' settembre'\n",
    "    if 273 < x <= 304:\n",
    "        return str(x - 273) + ' ottobre'\n",
    "    if 304 < x <= 334:\n",
    "        return str(x - 304) + ' novembre'\n",
    "    if 334 < x <= 365:\n",
    "        return str(x - 334) + ' dicembre'"
   ]
  },
  {
   "cell_type": "code",
   "execution_count": 9,
   "metadata": {
    "collapsed": false
   },
   "outputs": [
    {
     "data": {
      "text/plain": [
       "'20 luglio'"
      ]
     },
     "execution_count": 9,
     "metadata": {},
     "output_type": "execute_result"
    }
   ],
   "source": [
    "calcola_data(201)"
   ]
  },
  {
   "cell_type": "code",
   "execution_count": 10,
   "metadata": {
    "collapsed": false
   },
   "outputs": [
    {
     "data": {
      "text/plain": [
       "'11 novembre'"
      ]
     },
     "execution_count": 10,
     "metadata": {},
     "output_type": "execute_result"
    }
   ],
   "source": [
    "calcola_data(315)"
   ]
  },
  {
   "cell_type": "markdown",
   "metadata": {},
   "source": [
    "A questo punto, possiamo iniziare a risolvere il problema vero e proprio. Iniziamo col simulare la classe:"
   ]
  },
  {
   "cell_type": "code",
   "execution_count": 11,
   "metadata": {
    "collapsed": true
   },
   "outputs": [],
   "source": [
    "from random import random"
   ]
  },
  {
   "cell_type": "markdown",
   "metadata": {},
   "source": [
    "Definiamo ora una funzione che ci permetterà, dopo aver assegnato ad ogni elemento della classe un numero casuale, compreso fra 0 (escluso) e 365 (incluso), che rappresenterà il giorno del compleanno, di calcolare il numero di collisioni (che chiamaremo \"totale\") che avvengono: cosa vuol dire? Python andrà a controllare se nella lista in cui ad ogni elemento della nostra classe ha assegnato un numero ci sono delle collisioni, ovvero dei numeri che ricorrono più di una volta (\"if compleanni.count(X) >= 2\") e andrà a sommare il numero di collisioni."
   ]
  },
  {
   "cell_type": "code",
   "execution_count": 14,
   "metadata": {
    "collapsed": true
   },
   "outputs": [],
   "source": [
    "def collision(i):\n",
    "    compleanni = [round(random()*364) +1 for x in i]\n",
    "    if len(set(compleanni)) != len(compleanni):\n",
    "        return True\n",
    "    else:\n",
    "        return False"
   ]
  },
  {
   "cell_type": "markdown",
   "metadata": {},
   "source": [
    "A questo punto, possiamo eseguire \"collision\" sulla nostra classe"
   ]
  },
  {
   "cell_type": "code",
   "execution_count": 13,
   "metadata": {
    "collapsed": false
   },
   "outputs": [],
   "source": [
    "classe = range(30)"
   ]
  },
  {
   "cell_type": "code",
   "execution_count": 14,
   "metadata": {
    "collapsed": false
   },
   "outputs": [
    {
     "data": {
      "text/plain": [
       "True"
      ]
     },
     "execution_count": 14,
     "metadata": {},
     "output_type": "execute_result"
    }
   ],
   "source": [
    "collision(classe)"
   ]
  },
  {
   "cell_type": "markdown",
   "metadata": {},
   "source": [
    "Sappiamo che la probabilità si calcola facendo il rapporto fra il numero di casi favorevoli e il numero di casi totali, quindi definiamo la funzione che calcolerà questo rapporto"
   ]
  },
  {
   "cell_type": "code",
   "execution_count": 15,
   "metadata": {
    "collapsed": true
   },
   "outputs": [],
   "source": [
    "def prob(numero_persone, numero_prove = 1000):\n",
    "    classe = range(numero_persone)\n",
    "    tentativi = [collision(classe) for x in range(numero_prove)]\n",
    "    return sum(tentativi)/len(tentativi)*100"
   ]
  },
  {
   "cell_type": "markdown",
   "metadata": {},
   "source": [
    "Chiamiamo ora la funzione per avere la probabilità"
   ]
  },
  {
   "cell_type": "code",
   "execution_count": 16,
   "metadata": {
    "collapsed": false
   },
   "outputs": [
    {
     "data": {
      "text/plain": [
       "40.0"
      ]
     },
     "execution_count": 16,
     "metadata": {},
     "output_type": "execute_result"
    }
   ],
   "source": [
    "prob(23,20)"
   ]
  },
  {
   "cell_type": "code",
   "execution_count": 17,
   "metadata": {
    "collapsed": false
   },
   "outputs": [
    {
     "data": {
      "text/plain": [
       "52.5"
      ]
     },
     "execution_count": 17,
     "metadata": {},
     "output_type": "execute_result"
    }
   ],
   "source": [
    "prob(23)"
   ]
  },
  {
   "cell_type": "markdown",
   "metadata": {},
   "source": [
    "Vogliamo ora vedere come vari la probabilità al variare del numero di persone nell'intervallo da zero a cento"
   ]
  },
  {
   "cell_type": "code",
   "execution_count": 18,
   "metadata": {
    "collapsed": true
   },
   "outputs": [],
   "source": [
    "ls = range(100)"
   ]
  },
  {
   "cell_type": "code",
   "execution_count": 19,
   "metadata": {
    "collapsed": false
   },
   "outputs": [],
   "source": [
    "prob_tot = [prob(x) for x in ls]"
   ]
  },
  {
   "cell_type": "markdown",
   "metadata": {},
   "source": [
    "In questo modo abbiamo ottenuto la lista delle probabilità calcolata in base al numero di elementi (da 0 a 100)"
   ]
  },
  {
   "cell_type": "code",
   "execution_count": 20,
   "metadata": {
    "collapsed": false,
    "scrolled": true
   },
   "outputs": [
    {
     "data": {
      "text/plain": [
       "[0.0,\n",
       " 0.0,\n",
       " 0.5,\n",
       " 0.7000000000000001,\n",
       " 2.3,\n",
       " 3.5000000000000004,\n",
       " 5.5,\n",
       " 6.3,\n",
       " 7.3,\n",
       " 10.299999999999999,\n",
       " 12.0,\n",
       " 14.000000000000002,\n",
       " 17.2,\n",
       " 21.7,\n",
       " 21.3,\n",
       " 26.3,\n",
       " 30.3,\n",
       " 32.300000000000004,\n",
       " 36.0,\n",
       " 37.5,\n",
       " 42.0,\n",
       " 45.5,\n",
       " 48.0,\n",
       " 49.4,\n",
       " 54.900000000000006,\n",
       " 58.5,\n",
       " 58.5,\n",
       " 63.6,\n",
       " 63.4,\n",
       " 68.60000000000001,\n",
       " 70.7,\n",
       " 72.5,\n",
       " 75.7,\n",
       " 74.9,\n",
       " 80.0,\n",
       " 82.89999999999999,\n",
       " 82.1,\n",
       " 84.39999999999999,\n",
       " 86.8,\n",
       " 87.1,\n",
       " 87.7,\n",
       " 91.3,\n",
       " 91.4,\n",
       " 93.10000000000001,\n",
       " 92.2,\n",
       " 94.8,\n",
       " 95.1,\n",
       " 95.89999999999999,\n",
       " 95.6,\n",
       " 96.7,\n",
       " 97.6,\n",
       " 97.2,\n",
       " 97.89999999999999,\n",
       " 98.1,\n",
       " 98.0,\n",
       " 99.1,\n",
       " 98.8,\n",
       " 98.8,\n",
       " 99.4,\n",
       " 99.0,\n",
       " 99.5,\n",
       " 99.6,\n",
       " 99.9,\n",
       " 99.6,\n",
       " 99.8,\n",
       " 99.9,\n",
       " 99.9,\n",
       " 99.7,\n",
       " 99.7,\n",
       " 99.9,\n",
       " 99.7,\n",
       " 99.9,\n",
       " 100.0,\n",
       " 100.0,\n",
       " 100.0,\n",
       " 100.0,\n",
       " 99.9,\n",
       " 100.0,\n",
       " 100.0,\n",
       " 100.0,\n",
       " 100.0,\n",
       " 100.0,\n",
       " 100.0,\n",
       " 100.0,\n",
       " 100.0,\n",
       " 100.0,\n",
       " 100.0,\n",
       " 100.0,\n",
       " 100.0,\n",
       " 100.0,\n",
       " 100.0,\n",
       " 100.0,\n",
       " 100.0,\n",
       " 100.0,\n",
       " 100.0,\n",
       " 100.0,\n",
       " 100.0,\n",
       " 100.0,\n",
       " 100.0,\n",
       " 100.0]"
      ]
     },
     "execution_count": 20,
     "metadata": {},
     "output_type": "execute_result"
    }
   ],
   "source": [
    "prob_tot"
   ]
  },
  {
   "cell_type": "markdown",
   "metadata": {},
   "source": [
    "Disegnamo ora il grafico che rappresenti l'andamento della probabilità al crescere degli elementi nell'insieme (il numero di studenti nella classe)"
   ]
  },
  {
   "cell_type": "code",
   "execution_count": 21,
   "metadata": {
    "collapsed": false
   },
   "outputs": [
    {
     "data": {
      "image/png": "[encoded data removed]",
      "text/plain": [
       "<matplotlib.figure.Figure at 0x7fabfcce2a58>"
      ]
     },
     "metadata": {},
     "output_type": "display_data"
    }
   ],
   "source": [
    "import matplotlib.pyplot as plt\n",
    "%matplotlib inline\n",
    "_ = plt.plot([ls],[prob_tot], \"ro\")"
   ]
  },
  {
   "cell_type": "code",
   "execution_count": 4,
   "metadata": {
    "collapsed": true
   },
   "outputs": [],
   "source": [
    "from random import random"
   ]
  },
  {
   "cell_type": "code",
   "execution_count": 5,
   "metadata": {
    "collapsed": true
   },
   "outputs": [],
   "source": [
    "def collision_day(i):\n",
    "    compleanni = [round(random()*364) +1 for x in i]\n",
    "    ls_1 = compleanni\n",
    "    ls = [x for x in ls_1 if ls_1.count(x) >= 2]\n",
    "    return ls"
   ]
  },
  {
   "cell_type": "code",
   "execution_count": 8,
   "metadata": {
    "collapsed": true
   },
   "outputs": [],
   "source": [
    "classe = range(20)"
   ]
  },
  {
   "cell_type": "code",
   "execution_count": 11,
   "metadata": {
    "collapsed": false
   },
   "outputs": [
    {
     "data": {
      "text/plain": [
       "[41, 41]"
      ]
     },
     "execution_count": 11,
     "metadata": {},
     "output_type": "execute_result"
    }
   ],
   "source": [
    "collision_day(classe)"
   ]
  },
  {
   "cell_type": "code",
   "execution_count": 15,
   "metadata": {
    "collapsed": false
   },
   "outputs": [],
   "source": [
    "tentativi = [collision(classe) for x in range(1000)]"
   ]
  },
  {
   "cell_type": "code",
   "execution_count": 16,
   "metadata": {
    "collapsed": true
   },
   "outputs": [],
   "source": [
    "days = collision_day(tentativi)"
   ]
  },
  {
   "cell_type": "code",
   "execution_count": 17,
   "metadata": {
    "collapsed": true
   },
   "outputs": [],
   "source": [
    "days.sort()"
   ]
  },
  {
   "cell_type": "code",
   "execution_count": 18,
   "metadata": {
    "collapsed": false,
    "scrolled": true
   },
   "outputs": [
    {
     "data": {
      "text/plain": [
       "[3,\n",
       " 3,\n",
       " 3,\n",
       " 3,\n",
       " 3,\n",
       " 3,\n",
       " 5,\n",
       " 5,\n",
       " 5,\n",
       " 6,\n",
       " 6,\n",
       " 6,\n",
       " 7,\n",
       " 7,\n",
       " 8,\n",
       " 8,\n",
       " 9,\n",
       " 9,\n",
       " 9,\n",
       " 10,\n",
       " 10,\n",
       " 10,\n",
       " 13,\n",
       " 13,\n",
       " 14,\n",
       " 14,\n",
       " 14,\n",
       " 14,\n",
       " 14,\n",
       " 16,\n",
       " 16,\n",
       " 18,\n",
       " 18,\n",
       " 18,\n",
       " 20,\n",
       " 20,\n",
       " 22,\n",
       " 22,\n",
       " 22,\n",
       " 23,\n",
       " 23,\n",
       " 23,\n",
       " 24,\n",
       " 24,\n",
       " 24,\n",
       " 24,\n",
       " 25,\n",
       " 25,\n",
       " 25,\n",
       " 25,\n",
       " 25,\n",
       " 25,\n",
       " 25,\n",
       " 26,\n",
       " 26,\n",
       " 26,\n",
       " 26,\n",
       " 26,\n",
       " 26,\n",
       " 28,\n",
       " 28,\n",
       " 28,\n",
       " 28,\n",
       " 30,\n",
       " 30,\n",
       " 30,\n",
       " 30,\n",
       " 30,\n",
       " 31,\n",
       " 31,\n",
       " 32,\n",
       " 32,\n",
       " 32,\n",
       " 32,\n",
       " 33,\n",
       " 33,\n",
       " 33,\n",
       " 33,\n",
       " 34,\n",
       " 34,\n",
       " 35,\n",
       " 35,\n",
       " 35,\n",
       " 35,\n",
       " 35,\n",
       " 38,\n",
       " 38,\n",
       " 38,\n",
       " 38,\n",
       " 38,\n",
       " 39,\n",
       " 39,\n",
       " 39,\n",
       " 41,\n",
       " 41,\n",
       " 41,\n",
       " 41,\n",
       " 42,\n",
       " 42,\n",
       " 43,\n",
       " 43,\n",
       " 44,\n",
       " 44,\n",
       " 44,\n",
       " 45,\n",
       " 45,\n",
       " 45,\n",
       " 47,\n",
       " 47,\n",
       " 47,\n",
       " 47,\n",
       " 47,\n",
       " 47,\n",
       " 49,\n",
       " 49,\n",
       " 51,\n",
       " 51,\n",
       " 51,\n",
       " 51,\n",
       " 52,\n",
       " 52,\n",
       " 52,\n",
       " 52,\n",
       " 53,\n",
       " 53,\n",
       " 53,\n",
       " 54,\n",
       " 54,\n",
       " 55,\n",
       " 55,\n",
       " 58,\n",
       " 58,\n",
       " 59,\n",
       " 59,\n",
       " 59,\n",
       " 59,\n",
       " 59,\n",
       " 60,\n",
       " 60,\n",
       " 61,\n",
       " 61,\n",
       " 61,\n",
       " 63,\n",
       " 63,\n",
       " 63,\n",
       " 64,\n",
       " 64,\n",
       " 64,\n",
       " 64,\n",
       " 65,\n",
       " 65,\n",
       " 65,\n",
       " 67,\n",
       " 67,\n",
       " 69,\n",
       " 69,\n",
       " 69,\n",
       " 69,\n",
       " 69,\n",
       " 69,\n",
       " 71,\n",
       " 71,\n",
       " 71,\n",
       " 71,\n",
       " 71,\n",
       " 72,\n",
       " 72,\n",
       " 72,\n",
       " 73,\n",
       " 73,\n",
       " 73,\n",
       " 74,\n",
       " 74,\n",
       " 74,\n",
       " 74,\n",
       " 74,\n",
       " 74,\n",
       " 75,\n",
       " 75,\n",
       " 75,\n",
       " 75,\n",
       " 76,\n",
       " 76,\n",
       " 76,\n",
       " 76,\n",
       " 76,\n",
       " 76,\n",
       " 77,\n",
       " 77,\n",
       " 78,\n",
       " 78,\n",
       " 79,\n",
       " 79,\n",
       " 79,\n",
       " 79,\n",
       " 80,\n",
       " 80,\n",
       " 81,\n",
       " 81,\n",
       " 81,\n",
       " 81,\n",
       " 81,\n",
       " 81,\n",
       " 82,\n",
       " 82,\n",
       " 83,\n",
       " 83,\n",
       " 83,\n",
       " 84,\n",
       " 84,\n",
       " 84,\n",
       " 85,\n",
       " 85,\n",
       " 85,\n",
       " 85,\n",
       " 86,\n",
       " 86,\n",
       " 87,\n",
       " 87,\n",
       " 87,\n",
       " 89,\n",
       " 89,\n",
       " 89,\n",
       " 89,\n",
       " 90,\n",
       " 90,\n",
       " 90,\n",
       " 90,\n",
       " 91,\n",
       " 91,\n",
       " 91,\n",
       " 91,\n",
       " 91,\n",
       " 91,\n",
       " 91,\n",
       " 92,\n",
       " 92,\n",
       " 93,\n",
       " 93,\n",
       " 93,\n",
       " 93,\n",
       " 93,\n",
       " 94,\n",
       " 94,\n",
       " 94,\n",
       " 94,\n",
       " 95,\n",
       " 95,\n",
       " 95,\n",
       " 96,\n",
       " 96,\n",
       " 96,\n",
       " 96,\n",
       " 98,\n",
       " 98,\n",
       " 98,\n",
       " 98,\n",
       " 98,\n",
       " 98,\n",
       " 99,\n",
       " 99,\n",
       " 99,\n",
       " 99,\n",
       " 99,\n",
       " 100,\n",
       " 100,\n",
       " 102,\n",
       " 102,\n",
       " 102,\n",
       " 102,\n",
       " 102,\n",
       " 102,\n",
       " 102,\n",
       " 103,\n",
       " 103,\n",
       " 104,\n",
       " 104,\n",
       " 105,\n",
       " 105,\n",
       " 105,\n",
       " 105,\n",
       " 106,\n",
       " 106,\n",
       " 107,\n",
       " 107,\n",
       " 108,\n",
       " 108,\n",
       " 108,\n",
       " 108,\n",
       " 108,\n",
       " 109,\n",
       " 109,\n",
       " 109,\n",
       " 110,\n",
       " 110,\n",
       " 112,\n",
       " 112,\n",
       " 112,\n",
       " 113,\n",
       " 113,\n",
       " 113,\n",
       " 115,\n",
       " 115,\n",
       " 115,\n",
       " 115,\n",
       " 115,\n",
       " 116,\n",
       " 116,\n",
       " 116,\n",
       " 117,\n",
       " 117,\n",
       " 117,\n",
       " 118,\n",
       " 118,\n",
       " 118,\n",
       " 118,\n",
       " 121,\n",
       " 121,\n",
       " 122,\n",
       " 122,\n",
       " 122,\n",
       " 124,\n",
       " 124,\n",
       " 124,\n",
       " 125,\n",
       " 125,\n",
       " 126,\n",
       " 126,\n",
       " 127,\n",
       " 127,\n",
       " 127,\n",
       " 128,\n",
       " 128,\n",
       " 128,\n",
       " 129,\n",
       " 129,\n",
       " 129,\n",
       " 129,\n",
       " 129,\n",
       " 131,\n",
       " 131,\n",
       " 132,\n",
       " 132,\n",
       " 133,\n",
       " 133,\n",
       " 133,\n",
       " 135,\n",
       " 135,\n",
       " 135,\n",
       " 136,\n",
       " 136,\n",
       " 136,\n",
       " 137,\n",
       " 137,\n",
       " 137,\n",
       " 137,\n",
       " 137,\n",
       " 138,\n",
       " 138,\n",
       " 138,\n",
       " 139,\n",
       " 139,\n",
       " 139,\n",
       " 140,\n",
       " 140,\n",
       " 140,\n",
       " 142,\n",
       " 142,\n",
       " 142,\n",
       " 143,\n",
       " 143,\n",
       " 143,\n",
       " 144,\n",
       " 144,\n",
       " 146,\n",
       " 146,\n",
       " 147,\n",
       " 147,\n",
       " 147,\n",
       " 147,\n",
       " 148,\n",
       " 148,\n",
       " 150,\n",
       " 150,\n",
       " 150,\n",
       " 150,\n",
       " 150,\n",
       " 151,\n",
       " 151,\n",
       " 151,\n",
       " 151,\n",
       " 151,\n",
       " 152,\n",
       " 152,\n",
       " 152,\n",
       " 152,\n",
       " 153,\n",
       " 153,\n",
       " 155,\n",
       " 155,\n",
       " 156,\n",
       " 156,\n",
       " 156,\n",
       " 156,\n",
       " 156,\n",
       " 157,\n",
       " 157,\n",
       " 157,\n",
       " 157,\n",
       " 158,\n",
       " 158,\n",
       " 159,\n",
       " 159,\n",
       " 159,\n",
       " 159,\n",
       " 160,\n",
       " 160,\n",
       " 161,\n",
       " 161,\n",
       " 161,\n",
       " 162,\n",
       " 162,\n",
       " 162,\n",
       " 162,\n",
       " 162,\n",
       " 163,\n",
       " 163,\n",
       " 163,\n",
       " 163,\n",
       " 165,\n",
       " 165,\n",
       " 165,\n",
       " 165,\n",
       " 165,\n",
       " 166,\n",
       " 166,\n",
       " 166,\n",
       " 166,\n",
       " 166,\n",
       " 167,\n",
       " 167,\n",
       " 167,\n",
       " 168,\n",
       " 168,\n",
       " 169,\n",
       " 169,\n",
       " 170,\n",
       " 170,\n",
       " 170,\n",
       " 170,\n",
       " 171,\n",
       " 171,\n",
       " 171,\n",
       " 171,\n",
       " 171,\n",
       " 173,\n",
       " 173,\n",
       " 174,\n",
       " 174,\n",
       " 174,\n",
       " 174,\n",
       " 176,\n",
       " 176,\n",
       " 177,\n",
       " 177,\n",
       " 177,\n",
       " 178,\n",
       " 178,\n",
       " 178,\n",
       " 179,\n",
       " 179,\n",
       " 180,\n",
       " 180,\n",
       " 181,\n",
       " 181,\n",
       " 182,\n",
       " 182,\n",
       " 182,\n",
       " 183,\n",
       " 183,\n",
       " 183,\n",
       " 184,\n",
       " 184,\n",
       " 184,\n",
       " 186,\n",
       " 186,\n",
       " 186,\n",
       " 186,\n",
       " 187,\n",
       " 187,\n",
       " 187,\n",
       " 188,\n",
       " 188,\n",
       " 188,\n",
       " 190,\n",
       " 190,\n",
       " 192,\n",
       " 192,\n",
       " 192,\n",
       " 195,\n",
       " 195,\n",
       " 196,\n",
       " 196,\n",
       " 196,\n",
       " 196,\n",
       " 196,\n",
       " 198,\n",
       " 198,\n",
       " 200,\n",
       " 200,\n",
       " 201,\n",
       " 201,\n",
       " 202,\n",
       " 202,\n",
       " 202,\n",
       " 202,\n",
       " 203,\n",
       " 203,\n",
       " 203,\n",
       " 203,\n",
       " 205,\n",
       " 205,\n",
       " 205,\n",
       " 205,\n",
       " 206,\n",
       " 206,\n",
       " 209,\n",
       " 209,\n",
       " 210,\n",
       " 210,\n",
       " 210,\n",
       " 211,\n",
       " 211,\n",
       " 212,\n",
       " 212,\n",
       " 212,\n",
       " 213,\n",
       " 213,\n",
       " 213,\n",
       " 213,\n",
       " 214,\n",
       " 214,\n",
       " 214,\n",
       " 214,\n",
       " 214,\n",
       " 215,\n",
       " 215,\n",
       " 216,\n",
       " 216,\n",
       " 216,\n",
       " 216,\n",
       " 216,\n",
       " 217,\n",
       " 217,\n",
       " 217,\n",
       " 218,\n",
       " 218,\n",
       " 218,\n",
       " 218,\n",
       " 219,\n",
       " 219,\n",
       " 219,\n",
       " 219,\n",
       " 219,\n",
       " 219,\n",
       " 220,\n",
       " 220,\n",
       " 221,\n",
       " 221,\n",
       " 223,\n",
       " 223,\n",
       " 225,\n",
       " 225,\n",
       " 225,\n",
       " 225,\n",
       " 228,\n",
       " 228,\n",
       " 228,\n",
       " 228,\n",
       " 228,\n",
       " 230,\n",
       " 230,\n",
       " 230,\n",
       " 230,\n",
       " 232,\n",
       " 232,\n",
       " 233,\n",
       " 233,\n",
       " 233,\n",
       " 236,\n",
       " 236,\n",
       " 239,\n",
       " 239,\n",
       " 239,\n",
       " 239,\n",
       " 240,\n",
       " 240,\n",
       " 240,\n",
       " 240,\n",
       " 241,\n",
       " 241,\n",
       " 242,\n",
       " 242,\n",
       " 243,\n",
       " 243,\n",
       " 243,\n",
       " 243,\n",
       " 243,\n",
       " 243,\n",
       " 244,\n",
       " 244,\n",
       " 244,\n",
       " 244,\n",
       " 245,\n",
       " 245,\n",
       " 245,\n",
       " 245,\n",
       " 245,\n",
       " 245,\n",
       " 246,\n",
       " 246,\n",
       " 246,\n",
       " 246,\n",
       " 248,\n",
       " 248,\n",
       " 248,\n",
       " 249,\n",
       " 249,\n",
       " 249,\n",
       " 251,\n",
       " 251,\n",
       " 251,\n",
       " 251,\n",
       " 252,\n",
       " 252,\n",
       " 253,\n",
       " 253,\n",
       " 254,\n",
       " 254,\n",
       " 254,\n",
       " 255,\n",
       " 255,\n",
       " 255,\n",
       " 255,\n",
       " 255,\n",
       " 256,\n",
       " 256,\n",
       " 256,\n",
       " 256,\n",
       " 257,\n",
       " 257,\n",
       " 257,\n",
       " 257,\n",
       " 258,\n",
       " 258,\n",
       " 259,\n",
       " 259,\n",
       " 259,\n",
       " 260,\n",
       " 260,\n",
       " 262,\n",
       " 262,\n",
       " 263,\n",
       " 263,\n",
       " 263,\n",
       " 263,\n",
       " 263,\n",
       " 264,\n",
       " 264,\n",
       " 264,\n",
       " 264,\n",
       " 264,\n",
       " 264,\n",
       " 265,\n",
       " 265,\n",
       " 265,\n",
       " 265,\n",
       " 266,\n",
       " 266,\n",
       " 267,\n",
       " 267,\n",
       " 268,\n",
       " 268,\n",
       " 268,\n",
       " 270,\n",
       " 270,\n",
       " 271,\n",
       " 271,\n",
       " 274,\n",
       " 274,\n",
       " 275,\n",
       " 275,\n",
       " 275,\n",
       " 276,\n",
       " 276,\n",
       " 276,\n",
       " 276,\n",
       " 276,\n",
       " 276,\n",
       " 278,\n",
       " 278,\n",
       " 279,\n",
       " 279,\n",
       " 279,\n",
       " 279,\n",
       " 280,\n",
       " 280,\n",
       " 281,\n",
       " 281,\n",
       " 281,\n",
       " 283,\n",
       " 283,\n",
       " 284,\n",
       " 284,\n",
       " 284,\n",
       " 284,\n",
       " 284,\n",
       " 285,\n",
       " 285,\n",
       " 285,\n",
       " 285,\n",
       " 286,\n",
       " 286,\n",
       " 286,\n",
       " 286,\n",
       " 286,\n",
       " 287,\n",
       " 287,\n",
       " 288,\n",
       " 288,\n",
       " 288,\n",
       " 288,\n",
       " 290,\n",
       " 290,\n",
       " 290,\n",
       " 290,\n",
       " 290,\n",
       " 290,\n",
       " 291,\n",
       " 291,\n",
       " 291,\n",
       " 291,\n",
       " 291,\n",
       " 292,\n",
       " 292,\n",
       " 292,\n",
       " 294,\n",
       " 294,\n",
       " 294,\n",
       " 294,\n",
       " 294,\n",
       " 294,\n",
       " 295,\n",
       " 295,\n",
       " 295,\n",
       " 296,\n",
       " 296,\n",
       " 297,\n",
       " 297,\n",
       " 297,\n",
       " 299,\n",
       " 299,\n",
       " 300,\n",
       " 300,\n",
       " 301,\n",
       " 301,\n",
       " 302,\n",
       " 302,\n",
       " 303,\n",
       " 303,\n",
       " 303,\n",
       " 303,\n",
       " 303,\n",
       " 304,\n",
       " 304,\n",
       " 305,\n",
       " 305,\n",
       " 305,\n",
       " 306,\n",
       " 306,\n",
       " 307,\n",
       " 307,\n",
       " 307,\n",
       " 308,\n",
       " 308,\n",
       " 308,\n",
       " 309,\n",
       " 309,\n",
       " 309,\n",
       " 310,\n",
       " 310,\n",
       " 310,\n",
       " 310,\n",
       " 310,\n",
       " 312,\n",
       " 312,\n",
       " 312,\n",
       " 312,\n",
       " 314,\n",
       " 314,\n",
       " 314,\n",
       " 314,\n",
       " 314,\n",
       " 315,\n",
       " 315,\n",
       " 316,\n",
       " 316,\n",
       " 316,\n",
       " 316,\n",
       " 316,\n",
       " 317,\n",
       " 317,\n",
       " 319,\n",
       " 319,\n",
       " 319,\n",
       " 319,\n",
       " 319,\n",
       " 319,\n",
       " 320,\n",
       " 320,\n",
       " 320,\n",
       " 320,\n",
       " 320,\n",
       " 321,\n",
       " 321,\n",
       " 322,\n",
       " 322,\n",
       " 322,\n",
       " 322,\n",
       " 323,\n",
       " 323,\n",
       " 323,\n",
       " 323,\n",
       " 324,\n",
       " 324,\n",
       " 325,\n",
       " 325,\n",
       " 327,\n",
       " 327,\n",
       " 327,\n",
       " 329,\n",
       " 329,\n",
       " 329,\n",
       " 329,\n",
       " 329,\n",
       " 330,\n",
       " 330,\n",
       " 330,\n",
       " 332,\n",
       " 332,\n",
       " 332,\n",
       " 332,\n",
       " 332,\n",
       " 333,\n",
       " 333,\n",
       " 333,\n",
       " 334,\n",
       " 334,\n",
       " 334,\n",
       " 335,\n",
       " 335,\n",
       " 335,\n",
       " 336,\n",
       " 336,\n",
       " 336,\n",
       " 337,\n",
       " 337,\n",
       " 337,\n",
       " 339,\n",
       " 339,\n",
       " 339,\n",
       " 339,\n",
       " 339,\n",
       " 341,\n",
       " 341,\n",
       " 341,\n",
       " 341,\n",
       " 342,\n",
       " 342,\n",
       " 342,\n",
       " 342,\n",
       " 342,\n",
       " 342,\n",
       " 343,\n",
       " 343,\n",
       " 344,\n",
       " 344,\n",
       " 345,\n",
       " 345,\n",
       " 345,\n",
       " 345,\n",
       " 346,\n",
       " 346,\n",
       " 346,\n",
       " 347,\n",
       " 347,\n",
       " 347,\n",
       " 349,\n",
       " 349,\n",
       " 349,\n",
       " 350,\n",
       " 350,\n",
       " 350,\n",
       " 350,\n",
       " 350,\n",
       " 350,\n",
       " 351,\n",
       " 351,\n",
       " 351,\n",
       " 353,\n",
       " 353,\n",
       " 353,\n",
       " 353,\n",
       " 354,\n",
       " 354,\n",
       " 354,\n",
       " 354,\n",
       " 357,\n",
       " 357,\n",
       " 357,\n",
       " 357,\n",
       " 357,\n",
       " 357,\n",
       " 358,\n",
       " 358,\n",
       " 358,\n",
       " 358,\n",
       " 360,\n",
       " 360,\n",
       " 360,\n",
       " 361,\n",
       " 361,\n",
       " 361,\n",
       " 362,\n",
       " 362,\n",
       " 362,\n",
       " 362,\n",
       " 363,\n",
       " 363,\n",
       " 363]"
      ]
     },
     "execution_count": 18,
     "metadata": {},
     "output_type": "execute_result"
    }
   ],
   "source": [
    "days"
   ]
  },
  {
   "cell_type": "code",
   "execution_count": 19,
   "metadata": {
    "collapsed": true
   },
   "outputs": [],
   "source": [
    "days_y = [days.count(x) for x in days]"
   ]
  },
  {
   "cell_type": "code",
   "execution_count": 20,
   "metadata": {
    "collapsed": false
   },
   "outputs": [
    {
     "name": "stdout",
     "output_type": "stream",
     "text": [
      "High five! You successfuly sent some data to your account on plotly. View your plot in your browser at https://plot.ly/~crissy/0 or inside your plot.ly account where it is named 'basic-bar'\n"
     ]
    },
    {
     "data": {
      "text/html": [
       "<iframe id=\"igraph\" scrolling=\"no\" style=\"border:none;\" seamless=\"seamless\" src=\"https://plot.ly/~crissy/0.embed\" height=\"525px\" width=\"100%\"></iframe>"
      ],
      "text/plain": [
       "<plotly.tools.PlotlyDisplay object>"
      ]
     },
     "execution_count": 20,
     "metadata": {},
     "output_type": "execute_result"
    }
   ],
   "source": [
    "import plotly.plotly as py\n",
    "py.sign_in('crissy', 'mqocxgkij9')\n",
    "\n",
    "import plotly.graph_objs as go\n",
    "\n",
    "data = [go.Bar(\n",
    "            x=days,\n",
    "            y=days_y\n",
    "    )]\n",
    "\n",
    "py.iplot(data, filename='basic-bar')"
   ]
  },
  {
   "cell_type": "code",
   "execution_count": null,
   "metadata": {
    "collapsed": true
   },
   "outputs": [],
   "source": []
  }
 ],
 "metadata": {
  "kernelspec": {
   "display_name": "Python 3",
   "language": "python",
   "name": "python3"
  },
  "language_info": {
   "codemirror_mode": {
    "name": "ipython",
    "version": 3
   },
   "file_extension": ".py",
   "mimetype": "text/x-python",
   "name": "python",
   "nbconvert_exporter": "python",
   "pygments_lexer": "ipython3",
   "version": "3.5.1"
  }
 },
 "nbformat": 4,
 "nbformat_minor": 0
}

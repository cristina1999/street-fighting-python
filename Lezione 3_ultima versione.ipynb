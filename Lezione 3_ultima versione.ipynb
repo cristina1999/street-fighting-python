{
 "cells": [
  {
   "cell_type": "markdown",
   "metadata": {
    "collapsed": true
   },
   "source": [
    "A chi si rivolge: ragazzi delle superiori\n",
    "\n",
    "Conoscenze pregresse: conoscenze di base di programmazione (sintassi)\n"
   ]
  },
  {
   "cell_type": "markdown",
   "metadata": {},
   "source": [
    "# Lezione 3\n",
    "## Manipolazione dei testi\n",
    "\n",
    "Vi siete mai chiesti se fosse possibile contare quale fosse la parola più ricorrente in un testo o quante volte una parola sia usata in un testo senza doverlo fare manualmente?\n",
    "In questa lezione vedremo come sia possibile fare questo con python: iniziamo col definire il testo sui cui vogliamo lavorare, definendo la variabile *testo*"
   ]
  },
  {
   "cell_type": "code",
   "execution_count": 3,
   "metadata": {
    "collapsed": true
   },
   "outputs": [],
   "source": [
    "testo = \"\"\"\n",
    "\n",
    "    tu io attimo\n",
    "\n",
    "    sogni spero\n",
    "\n",
    "    tu io immagine sospesa\n",
    "\n",
    "    non mai perso\n",
    "\n",
    "    non ostacolo oltre nostro\n",
    "\n",
    "    dirsi verità\n",
    "\n",
    "     \n",
    "\n",
    "    io non mai smesso crederci\n",
    "\n",
    "    so adesso cambierà\n",
    "\n",
    "    sorrisi perduto\n",
    "\n",
    "    tu prenderai come attimo\n",
    "\n",
    "    come attimo \n",
    "     \n",
    "\n",
    "    se non vedo vedi tu\n",
    "\n",
    "    me difficile sai\n",
    "\n",
    "    ma noi poi nostro viaggio\n",
    "\n",
    "    cancelleremo perché\n",
    "\n",
    "    vedrai questo tempo pagherà\n",
    "\n",
    "    so già non finirà\n",
    "\n",
    "     \n",
    "\n",
    "    io non mai smesso crederci\n",
    "\n",
    "    so adesso cambierà\n",
    "\n",
    "    sorrisi perduto\n",
    "\n",
    "    tu prenderai come attimo\n",
    "    \n",
    "    come attimo \n",
    "\n",
    "     \n",
    "\n",
    "    quando poi ti volterai\n",
    "\n",
    "    pensa solamente noi\n",
    "\n",
    "    non aver paura dolore amore\n",
    "\n",
    "    sono accanto te\n",
    "\n",
    "    perché\n",
    "\n",
    "     \n",
    "\n",
    "    io non mai smesso crederci\n",
    "\n",
    "    tutto adesso cambierà\n",
    "\n",
    "    nostro tempo amore vissuto\n",
    "\n",
    "    tu riabbraccerai\n",
    "\n",
    "    come attimo come attimo\n",
    "\"\"\""
   ]
  },
  {
   "cell_type": "markdown",
   "metadata": {},
   "source": [
    "Chiediamo ora a python di *splittare* il testo, in modo che ogni parola venga considerata come elemento singolo di una lista e chiamiamo ciò che otteniamo *\"parole\"*"
   ]
  },
  {
   "cell_type": "code",
   "execution_count": 4,
   "metadata": {
    "collapsed": false,
    "scrolled": true
   },
   "outputs": [
    {
     "data": {
      "text/plain": [
       "['tu',\n",
       " 'io',\n",
       " 'attimo',\n",
       " 'sogni',\n",
       " 'spero',\n",
       " 'tu',\n",
       " 'io',\n",
       " 'immagine',\n",
       " 'sospesa',\n",
       " 'non',\n",
       " 'mai',\n",
       " 'perso',\n",
       " 'non',\n",
       " 'ostacolo',\n",
       " 'oltre',\n",
       " 'nostro',\n",
       " 'dirsi',\n",
       " 'verità',\n",
       " 'io',\n",
       " 'non',\n",
       " 'mai',\n",
       " 'smesso',\n",
       " 'crederci',\n",
       " 'so',\n",
       " 'adesso',\n",
       " 'cambierà',\n",
       " 'sorrisi',\n",
       " 'perduto',\n",
       " 'tu',\n",
       " 'prenderai',\n",
       " 'come',\n",
       " 'attimo',\n",
       " 'come',\n",
       " 'attimo',\n",
       " 'se',\n",
       " 'non',\n",
       " 'vedo',\n",
       " 'vedi',\n",
       " 'tu',\n",
       " 'me',\n",
       " 'difficile',\n",
       " 'sai',\n",
       " 'ma',\n",
       " 'noi',\n",
       " 'poi',\n",
       " 'nostro',\n",
       " 'viaggio',\n",
       " 'cancelleremo',\n",
       " 'perché',\n",
       " 'vedrai',\n",
       " 'questo',\n",
       " 'tempo',\n",
       " 'pagherà',\n",
       " 'so',\n",
       " 'già',\n",
       " 'non',\n",
       " 'finirà',\n",
       " 'io',\n",
       " 'non',\n",
       " 'mai',\n",
       " 'smesso',\n",
       " 'crederci',\n",
       " 'so',\n",
       " 'adesso',\n",
       " 'cambierà',\n",
       " 'sorrisi',\n",
       " 'perduto',\n",
       " 'tu',\n",
       " 'prenderai',\n",
       " 'come',\n",
       " 'attimo',\n",
       " 'come',\n",
       " 'attimo',\n",
       " 'quando',\n",
       " 'poi',\n",
       " 'ti',\n",
       " 'volterai',\n",
       " 'pensa',\n",
       " 'solamente',\n",
       " 'noi',\n",
       " 'non',\n",
       " 'aver',\n",
       " 'paura',\n",
       " 'dolore',\n",
       " 'amore',\n",
       " 'sono',\n",
       " 'accanto',\n",
       " 'te',\n",
       " 'perché',\n",
       " 'io',\n",
       " 'non',\n",
       " 'mai',\n",
       " 'smesso',\n",
       " 'crederci',\n",
       " 'tutto',\n",
       " 'adesso',\n",
       " 'cambierà',\n",
       " 'nostro',\n",
       " 'tempo',\n",
       " 'amore',\n",
       " 'vissuto',\n",
       " 'tu',\n",
       " 'riabbraccerai',\n",
       " 'come',\n",
       " 'attimo',\n",
       " 'come',\n",
       " 'attimo']"
      ]
     },
     "execution_count": 4,
     "metadata": {},
     "output_type": "execute_result"
    }
   ],
   "source": [
    "testo.split()"
   ]
  },
  {
   "cell_type": "code",
   "execution_count": 5,
   "metadata": {
    "collapsed": false
   },
   "outputs": [
    {
     "data": {
      "text/plain": [
       "840"
      ]
     },
     "execution_count": 5,
     "metadata": {},
     "output_type": "execute_result"
    }
   ],
   "source": [
    "len(testo)"
   ]
  },
  {
   "cell_type": "code",
   "execution_count": 6,
   "metadata": {
    "collapsed": true
   },
   "outputs": [],
   "source": [
    "parole = testo.split()"
   ]
  },
  {
   "cell_type": "code",
   "execution_count": 7,
   "metadata": {
    "collapsed": false
   },
   "outputs": [
    {
     "data": {
      "text/plain": [
       "7"
      ]
     },
     "execution_count": 7,
     "metadata": {},
     "output_type": "execute_result"
    }
   ],
   "source": [
    "parole.count(\"attimo\")"
   ]
  },
  {
   "cell_type": "markdown",
   "metadata": {},
   "source": [
    "A questo punto, vogliamo che ogni parola venga considerata una volta sola, indipendentemente da quante volte sia ripetuta. Per fare questo, utilizziamo la funzione *set*"
   ]
  },
  {
   "cell_type": "code",
   "execution_count": 8,
   "metadata": {
    "collapsed": false,
    "scrolled": true
   },
   "outputs": [
    {
     "data": {
      "text/plain": [
       "{'accanto',\n",
       " 'adesso',\n",
       " 'amore',\n",
       " 'attimo',\n",
       " 'aver',\n",
       " 'cambierà',\n",
       " 'cancelleremo',\n",
       " 'come',\n",
       " 'crederci',\n",
       " 'difficile',\n",
       " 'dirsi',\n",
       " 'dolore',\n",
       " 'finirà',\n",
       " 'già',\n",
       " 'immagine',\n",
       " 'io',\n",
       " 'ma',\n",
       " 'mai',\n",
       " 'me',\n",
       " 'noi',\n",
       " 'non',\n",
       " 'nostro',\n",
       " 'oltre',\n",
       " 'ostacolo',\n",
       " 'pagherà',\n",
       " 'paura',\n",
       " 'pensa',\n",
       " 'perché',\n",
       " 'perduto',\n",
       " 'perso',\n",
       " 'poi',\n",
       " 'prenderai',\n",
       " 'quando',\n",
       " 'questo',\n",
       " 'riabbraccerai',\n",
       " 'sai',\n",
       " 'se',\n",
       " 'smesso',\n",
       " 'so',\n",
       " 'sogni',\n",
       " 'solamente',\n",
       " 'sono',\n",
       " 'sorrisi',\n",
       " 'sospesa',\n",
       " 'spero',\n",
       " 'te',\n",
       " 'tempo',\n",
       " 'ti',\n",
       " 'tu',\n",
       " 'tutto',\n",
       " 'vedi',\n",
       " 'vedo',\n",
       " 'vedrai',\n",
       " 'verità',\n",
       " 'viaggio',\n",
       " 'vissuto',\n",
       " 'volterai'}"
      ]
     },
     "execution_count": 8,
     "metadata": {},
     "output_type": "execute_result"
    }
   ],
   "source": [
    "set(parole)"
   ]
  },
  {
   "cell_type": "code",
   "execution_count": 9,
   "metadata": {
    "collapsed": false
   },
   "outputs": [
    {
     "data": {
      "text/plain": [
       "107"
      ]
     },
     "execution_count": 9,
     "metadata": {},
     "output_type": "execute_result"
    }
   ],
   "source": [
    "len(parole)"
   ]
  },
  {
   "cell_type": "code",
   "execution_count": 10,
   "metadata": {
    "collapsed": false
   },
   "outputs": [
    {
     "data": {
      "text/plain": [
       "57"
      ]
     },
     "execution_count": 10,
     "metadata": {},
     "output_type": "execute_result"
    }
   ],
   "source": [
    "len(set(parole))"
   ]
  },
  {
   "cell_type": "code",
   "execution_count": 11,
   "metadata": {
    "collapsed": false,
    "scrolled": true
   },
   "outputs": [
    {
     "data": {
      "text/plain": [
       "['tu',\n",
       " 'io',\n",
       " 'attimo',\n",
       " 'sogni',\n",
       " 'spero',\n",
       " 'tu',\n",
       " 'io',\n",
       " 'immagine',\n",
       " 'sospesa',\n",
       " 'non',\n",
       " 'mai',\n",
       " 'perso',\n",
       " 'non',\n",
       " 'ostacolo',\n",
       " 'oltre',\n",
       " 'nostro',\n",
       " 'dirsi',\n",
       " 'verità',\n",
       " 'io',\n",
       " 'non',\n",
       " 'mai',\n",
       " 'smesso',\n",
       " 'crederci',\n",
       " 'so',\n",
       " 'adesso',\n",
       " 'cambierà',\n",
       " 'sorrisi',\n",
       " 'perduto',\n",
       " 'tu',\n",
       " 'prenderai',\n",
       " 'come',\n",
       " 'attimo',\n",
       " 'come',\n",
       " 'attimo',\n",
       " 'se',\n",
       " 'non',\n",
       " 'vedo',\n",
       " 'vedi',\n",
       " 'tu',\n",
       " 'me',\n",
       " 'difficile',\n",
       " 'sai',\n",
       " 'ma',\n",
       " 'noi',\n",
       " 'poi',\n",
       " 'nostro',\n",
       " 'viaggio',\n",
       " 'cancelleremo',\n",
       " 'perché',\n",
       " 'vedrai',\n",
       " 'questo',\n",
       " 'tempo',\n",
       " 'pagherà',\n",
       " 'so',\n",
       " 'già',\n",
       " 'non',\n",
       " 'finirà',\n",
       " 'io',\n",
       " 'non',\n",
       " 'mai',\n",
       " 'smesso',\n",
       " 'crederci',\n",
       " 'so',\n",
       " 'adesso',\n",
       " 'cambierà',\n",
       " 'sorrisi',\n",
       " 'perduto',\n",
       " 'tu',\n",
       " 'prenderai',\n",
       " 'come',\n",
       " 'attimo',\n",
       " 'come',\n",
       " 'attimo',\n",
       " 'quando',\n",
       " 'poi',\n",
       " 'ti',\n",
       " 'volterai',\n",
       " 'pensa',\n",
       " 'solamente',\n",
       " 'noi',\n",
       " 'non',\n",
       " 'aver',\n",
       " 'paura',\n",
       " 'dolore',\n",
       " 'amore',\n",
       " 'sono',\n",
       " 'accanto',\n",
       " 'te',\n",
       " 'perché',\n",
       " 'io',\n",
       " 'non',\n",
       " 'mai',\n",
       " 'smesso',\n",
       " 'crederci',\n",
       " 'tutto',\n",
       " 'adesso',\n",
       " 'cambierà',\n",
       " 'nostro',\n",
       " 'tempo',\n",
       " 'amore',\n",
       " 'vissuto',\n",
       " 'tu',\n",
       " 'riabbraccerai',\n",
       " 'come',\n",
       " 'attimo',\n",
       " 'come',\n",
       " 'attimo']"
      ]
     },
     "execution_count": 11,
     "metadata": {},
     "output_type": "execute_result"
    }
   ],
   "source": [
    "[x for x in parole]"
   ]
  },
  {
   "cell_type": "code",
   "execution_count": 12,
   "metadata": {
    "collapsed": true
   },
   "outputs": [],
   "source": [
    "risultato =[[x,parole.count(x)] for x in set(parole)]"
   ]
  },
  {
   "cell_type": "markdown",
   "metadata": {},
   "source": [
    "Ora definiamo una variabile *\"risultato\"* che sia una lista di coppie che abbiano come primo elemento un elemento di parole (a cui viene eseguita la funzione *set*) e come secondo, il numero di volte che quell'elemento è presente nel testo"
   ]
  },
  {
   "cell_type": "code",
   "execution_count": 13,
   "metadata": {
    "collapsed": false,
    "scrolled": true
   },
   "outputs": [
    {
     "data": {
      "text/plain": [
       "[['oltre', 1],\n",
       " ['attimo', 7],\n",
       " ['dolore', 1],\n",
       " ['sono', 1],\n",
       " ['ostacolo', 1],\n",
       " ['te', 1],\n",
       " ['difficile', 1],\n",
       " ['perché', 2],\n",
       " ['non', 8],\n",
       " ['viaggio', 1],\n",
       " ['tu', 6],\n",
       " ['pensa', 1],\n",
       " ['solamente', 1],\n",
       " ['dirsi', 1],\n",
       " ['immagine', 1],\n",
       " ['crederci', 3],\n",
       " ['io', 5],\n",
       " ['cancelleremo', 1],\n",
       " ['prenderai', 2],\n",
       " ['vedrai', 1],\n",
       " ['cambierà', 3],\n",
       " ['me', 1],\n",
       " ['mai', 4],\n",
       " ['pagherà', 1],\n",
       " ['so', 3],\n",
       " ['ti', 1],\n",
       " ['amore', 2],\n",
       " ['smesso', 3],\n",
       " ['volterai', 1],\n",
       " ['accanto', 1],\n",
       " ['verità', 1],\n",
       " ['nostro', 3],\n",
       " ['sogni', 1],\n",
       " ['questo', 1],\n",
       " ['perso', 1],\n",
       " ['vedo', 1],\n",
       " ['tutto', 1],\n",
       " ['riabbraccerai', 1],\n",
       " ['finirà', 1],\n",
       " ['paura', 1],\n",
       " ['ma', 1],\n",
       " ['vissuto', 1],\n",
       " ['noi', 2],\n",
       " ['sorrisi', 2],\n",
       " ['aver', 1],\n",
       " ['se', 1],\n",
       " ['spero', 1],\n",
       " ['adesso', 3],\n",
       " ['sai', 1],\n",
       " ['tempo', 2],\n",
       " ['vedi', 1],\n",
       " ['quando', 1],\n",
       " ['sospesa', 1],\n",
       " ['come', 6],\n",
       " ['perduto', 2],\n",
       " ['poi', 2],\n",
       " ['già', 1]]"
      ]
     },
     "execution_count": 13,
     "metadata": {},
     "output_type": "execute_result"
    }
   ],
   "source": [
    "risultato"
   ]
  },
  {
   "cell_type": "code",
   "execution_count": 14,
   "metadata": {
    "collapsed": true
   },
   "outputs": [],
   "source": [
    "def soluzione(x):\n",
    "    return [x[1],x[0]]"
   ]
  },
  {
   "cell_type": "markdown",
   "metadata": {},
   "source": [
    "Definiamo una funzione che, dato un testo (*x*) ritorni una lista di due elementi, in cui il primo è quello che in *x* stava al secondo posto e il secondo è quello che stava al primo: in questo modo, data *soluzione* sulla prima coppia di *risultato*, otteniamo prima il numero di volte in cui la parola della prima coppia è ripetuta, e poi la parola"
   ]
  },
  {
   "cell_type": "code",
   "execution_count": 15,
   "metadata": {
    "collapsed": false
   },
   "outputs": [
    {
     "data": {
      "text/plain": [
       "[1, 'oltre']"
      ]
     },
     "execution_count": 15,
     "metadata": {},
     "output_type": "execute_result"
    }
   ],
   "source": [
    "soluzione(risultato[0])"
   ]
  },
  {
   "cell_type": "code",
   "execution_count": 16,
   "metadata": {
    "collapsed": true
   },
   "outputs": [],
   "source": [
    "ultima_operazione=[soluzione(x) for x in risultato]"
   ]
  },
  {
   "cell_type": "markdown",
   "metadata": {},
   "source": [
    "Infine, chiamiamo *ultima_soluzione*, lista degli elementi di risultato a cui viene applicata *soluzione* e chiediamo a python di ordinarla in ordine crescente"
   ]
  },
  {
   "cell_type": "code",
   "execution_count": 17,
   "metadata": {
    "collapsed": false
   },
   "outputs": [],
   "source": [
    "ultima_operazione.sort()"
   ]
  },
  {
   "cell_type": "code",
   "execution_count": 18,
   "metadata": {
    "collapsed": false,
    "scrolled": true
   },
   "outputs": [
    {
     "data": {
      "text/plain": [
       "[[1, 'accanto'],\n",
       " [1, 'aver'],\n",
       " [1, 'cancelleremo'],\n",
       " [1, 'difficile'],\n",
       " [1, 'dirsi'],\n",
       " [1, 'dolore'],\n",
       " [1, 'finirà'],\n",
       " [1, 'già'],\n",
       " [1, 'immagine'],\n",
       " [1, 'ma'],\n",
       " [1, 'me'],\n",
       " [1, 'oltre'],\n",
       " [1, 'ostacolo'],\n",
       " [1, 'pagherà'],\n",
       " [1, 'paura'],\n",
       " [1, 'pensa'],\n",
       " [1, 'perso'],\n",
       " [1, 'quando'],\n",
       " [1, 'questo'],\n",
       " [1, 'riabbraccerai'],\n",
       " [1, 'sai'],\n",
       " [1, 'se'],\n",
       " [1, 'sogni'],\n",
       " [1, 'solamente'],\n",
       " [1, 'sono'],\n",
       " [1, 'sospesa'],\n",
       " [1, 'spero'],\n",
       " [1, 'te'],\n",
       " [1, 'ti'],\n",
       " [1, 'tutto'],\n",
       " [1, 'vedi'],\n",
       " [1, 'vedo'],\n",
       " [1, 'vedrai'],\n",
       " [1, 'verità'],\n",
       " [1, 'viaggio'],\n",
       " [1, 'vissuto'],\n",
       " [1, 'volterai'],\n",
       " [2, 'amore'],\n",
       " [2, 'noi'],\n",
       " [2, 'perché'],\n",
       " [2, 'perduto'],\n",
       " [2, 'poi'],\n",
       " [2, 'prenderai'],\n",
       " [2, 'sorrisi'],\n",
       " [2, 'tempo'],\n",
       " [3, 'adesso'],\n",
       " [3, 'cambierà'],\n",
       " [3, 'crederci'],\n",
       " [3, 'nostro'],\n",
       " [3, 'smesso'],\n",
       " [3, 'so'],\n",
       " [4, 'mai'],\n",
       " [5, 'io'],\n",
       " [6, 'come'],\n",
       " [6, 'tu'],\n",
       " [7, 'attimo'],\n",
       " [8, 'non']]"
      ]
     },
     "execution_count": 18,
     "metadata": {},
     "output_type": "execute_result"
    }
   ],
   "source": [
    "ultima_operazione"
   ]
  },
  {
   "cell_type": "code",
   "execution_count": 19,
   "metadata": {
    "collapsed": false
   },
   "outputs": [
    {
     "data": {
      "text/plain": [
       "'non'"
      ]
     },
     "execution_count": 19,
     "metadata": {},
     "output_type": "execute_result"
    }
   ],
   "source": [
    "ultima_operazione [-1][1]"
   ]
  },
  {
   "cell_type": "markdown",
   "metadata": {},
   "source": [
    "Chiamando *ultima_operazione [-1][1]*, quello che ci ritorna, è il secondo elemento dell'ultima coppia, cioè quello ripetuto più volte"
   ]
  },
  {
   "cell_type": "markdown",
   "metadata": {},
   "source": [
    "Possiamo definire una funzione che riassunga tutti i passaggi che abbiamo prima eseguito singolarmente, in questo modo:"
   ]
  },
  {
   "cell_type": "code",
   "execution_count": 20,
   "metadata": {
    "collapsed": true
   },
   "outputs": [],
   "source": [
    "def soluzione(x):\n",
    "    return [x[1],x[0]]\n",
    "def frequenza_parola(x):\n",
    "    x.split()\n",
    "    set(x.split())\n",
    "    parole = x.split()\n",
    "    risultato =[[x,parole.count(x)] for x in set(parole)]\n",
    "    ultima_operazione=[soluzione(x) for x in risultato]\n",
    "    ultima_operazione.sort()\n",
    "    return ultima_operazione [-1][1],ultima_operazione[-1][0]"
   ]
  },
  {
   "cell_type": "code",
   "execution_count": 21,
   "metadata": {
    "collapsed": true
   },
   "outputs": [],
   "source": [
    "x = \"\"\"\n",
    "\n",
    "    Tu, io, come un attimo fa.\n",
    "\n",
    "    Nei miei sogni spero\n",
    "\n",
    "    E tu, io, immagine sospesa\n",
    "\n",
    "    Che non ho mai perso\n",
    "\n",
    "    Non c'è ostacolo oltre al nostro\n",
    "\n",
    "    Di dirsi la verità\n",
    "\n",
    "     \n",
    "\n",
    "    Io non ho mai smesso di crederci\n",
    "\n",
    "    So che adesso cambierà\n",
    "\n",
    "    E quei sorrisi che ho già perduto\n",
    "\n",
    "    Tu li prenderai, è come un attimo fa\n",
    "\n",
    "    Come un attimo fa \n",
    "\n",
    "     \n",
    "\n",
    "    Se non vedo quello che vedi tu\n",
    "\n",
    "    Per me è difficile, sai\n",
    "\n",
    "    Ma noi, poi, nel nostro viaggio\n",
    "\n",
    "    Cancelleremo i perché\n",
    "\n",
    "    Vedrai, questo tempo pagherà\n",
    "\n",
    "    So già che non finirà\n",
    "\n",
    "     \n",
    "\n",
    "    Io non ho mai smesso di crederci\n",
    "\n",
    "    So che questo cambierà\n",
    "\n",
    "    E quei sorrisi che ho già perduto\n",
    "\n",
    "    Tu li prenderai, è come un attimo fa\n",
    "\n",
    "    Come un attimo fa\n",
    "\n",
    "     \n",
    "\n",
    "    Quando poi ti volterai\n",
    "\n",
    "    pensa solamente a noi\n",
    "\n",
    "    non aver paura del dolore, amore\n",
    "\n",
    "    sono accanto a te\n",
    "\n",
    "    perché\n",
    "\n",
    "     \n",
    "\n",
    "    Io non ho mai smesso di crederci\n",
    "\n",
    "    Tutto adesso cambierà\n",
    "\n",
    "    Il nostro tempo, l'amore vissuto\n",
    "\n",
    "    Tu lo riabbraccerai\n",
    "\n",
    "    E' come un attimo fa, come un attimo fa\n",
    "\"\"\""
   ]
  },
  {
   "cell_type": "code",
   "execution_count": 22,
   "metadata": {
    "collapsed": false
   },
   "outputs": [
    {
     "data": {
      "text/plain": [
       "('un', 7)"
      ]
     },
     "execution_count": 22,
     "metadata": {},
     "output_type": "execute_result"
    }
   ],
   "source": [
    "frequenza_parola(x)"
   ]
  },
  {
   "cell_type": "markdown",
   "metadata": {},
   "source": [
    "E se volessimo disegnare un grafico a barre per vedere visivamente quale sia la parola più utilizzata? Proviamoci!"
   ]
  },
  {
   "cell_type": "code",
   "execution_count": 23,
   "metadata": {
    "collapsed": true
   },
   "outputs": [],
   "source": [
    "def soluzione(x):\n",
    "    return [x[0],x[1]]"
   ]
  },
  {
   "cell_type": "code",
   "execution_count": 24,
   "metadata": {
    "collapsed": true
   },
   "outputs": [],
   "source": [
    "ultima_operazione=[soluzione(x) for x in risultato]"
   ]
  },
  {
   "cell_type": "code",
   "execution_count": 25,
   "metadata": {
    "collapsed": false,
    "scrolled": true
   },
   "outputs": [
    {
     "data": {
      "text/plain": [
       "[['oltre', 1],\n",
       " ['attimo', 7],\n",
       " ['dolore', 1],\n",
       " ['sono', 1],\n",
       " ['ostacolo', 1],\n",
       " ['te', 1],\n",
       " ['difficile', 1],\n",
       " ['perché', 2],\n",
       " ['non', 8],\n",
       " ['viaggio', 1],\n",
       " ['tu', 6],\n",
       " ['pensa', 1],\n",
       " ['solamente', 1],\n",
       " ['dirsi', 1],\n",
       " ['immagine', 1],\n",
       " ['crederci', 3],\n",
       " ['io', 5],\n",
       " ['cancelleremo', 1],\n",
       " ['prenderai', 2],\n",
       " ['vedrai', 1],\n",
       " ['cambierà', 3],\n",
       " ['me', 1],\n",
       " ['mai', 4],\n",
       " ['pagherà', 1],\n",
       " ['so', 3],\n",
       " ['ti', 1],\n",
       " ['amore', 2],\n",
       " ['smesso', 3],\n",
       " ['volterai', 1],\n",
       " ['accanto', 1],\n",
       " ['verità', 1],\n",
       " ['nostro', 3],\n",
       " ['sogni', 1],\n",
       " ['questo', 1],\n",
       " ['perso', 1],\n",
       " ['vedo', 1],\n",
       " ['tutto', 1],\n",
       " ['riabbraccerai', 1],\n",
       " ['finirà', 1],\n",
       " ['paura', 1],\n",
       " ['ma', 1],\n",
       " ['vissuto', 1],\n",
       " ['noi', 2],\n",
       " ['sorrisi', 2],\n",
       " ['aver', 1],\n",
       " ['se', 1],\n",
       " ['spero', 1],\n",
       " ['adesso', 3],\n",
       " ['sai', 1],\n",
       " ['tempo', 2],\n",
       " ['vedi', 1],\n",
       " ['quando', 1],\n",
       " ['sospesa', 1],\n",
       " ['come', 6],\n",
       " ['perduto', 2],\n",
       " ['poi', 2],\n",
       " ['già', 1]]"
      ]
     },
     "execution_count": 25,
     "metadata": {},
     "output_type": "execute_result"
    }
   ],
   "source": [
    "ultima_operazione"
   ]
  },
  {
   "cell_type": "code",
   "execution_count": 26,
   "metadata": {
    "collapsed": true
   },
   "outputs": [],
   "source": [
    "ultima_operazione.sort()"
   ]
  },
  {
   "cell_type": "markdown",
   "metadata": {},
   "source": [
    "(n.b.: i passaggi dal 47 al 50 sono riportati solo per avere la lista strutturata con le parole al primo posto e i numeri al secondo)"
   ]
  },
  {
   "cell_type": "markdown",
   "metadata": {},
   "source": [
    "Per disegnare il grafico, abbiamo bisogno di una lista che contenga gli elementi sull'asse x e una lista che contenga quelli dell'asse y, quindi dobbiamo creare *ls_0* e *ls_1* che abbiano come elementi *ls_0*, tutti i primi elementi di ogni coppia di *ultima_operazione* e *ls_1* i secondi (cioè i numeri)."
   ]
  },
  {
   "cell_type": "code",
   "execution_count": 27,
   "metadata": {
    "collapsed": false
   },
   "outputs": [],
   "source": [
    "ls_0 = [x[0] for x in ultima_operazione]"
   ]
  },
  {
   "cell_type": "code",
   "execution_count": 28,
   "metadata": {
    "collapsed": true
   },
   "outputs": [],
   "source": [
    "ls_1 = [x[1] for x in ultima_operazione]"
   ]
  },
  {
   "cell_type": "code",
   "execution_count": 29,
   "metadata": {
    "collapsed": false,
    "scrolled": true
   },
   "outputs": [
    {
     "data": {
      "text/plain": [
       "['accanto',\n",
       " 'adesso',\n",
       " 'amore',\n",
       " 'attimo',\n",
       " 'aver',\n",
       " 'cambierà',\n",
       " 'cancelleremo',\n",
       " 'come',\n",
       " 'crederci',\n",
       " 'difficile',\n",
       " 'dirsi',\n",
       " 'dolore',\n",
       " 'finirà',\n",
       " 'già',\n",
       " 'immagine',\n",
       " 'io',\n",
       " 'ma',\n",
       " 'mai',\n",
       " 'me',\n",
       " 'noi',\n",
       " 'non',\n",
       " 'nostro',\n",
       " 'oltre',\n",
       " 'ostacolo',\n",
       " 'pagherà',\n",
       " 'paura',\n",
       " 'pensa',\n",
       " 'perché',\n",
       " 'perduto',\n",
       " 'perso',\n",
       " 'poi',\n",
       " 'prenderai',\n",
       " 'quando',\n",
       " 'questo',\n",
       " 'riabbraccerai',\n",
       " 'sai',\n",
       " 'se',\n",
       " 'smesso',\n",
       " 'so',\n",
       " 'sogni',\n",
       " 'solamente',\n",
       " 'sono',\n",
       " 'sorrisi',\n",
       " 'sospesa',\n",
       " 'spero',\n",
       " 'te',\n",
       " 'tempo',\n",
       " 'ti',\n",
       " 'tu',\n",
       " 'tutto',\n",
       " 'vedi',\n",
       " 'vedo',\n",
       " 'vedrai',\n",
       " 'verità',\n",
       " 'viaggio',\n",
       " 'vissuto',\n",
       " 'volterai']"
      ]
     },
     "execution_count": 29,
     "metadata": {},
     "output_type": "execute_result"
    }
   ],
   "source": [
    "ls_0"
   ]
  },
  {
   "cell_type": "code",
   "execution_count": 31,
   "metadata": {
    "collapsed": false
   },
   "outputs": [
    {
     "name": "stdout",
     "output_type": "stream",
     "text": [
      "High five! You successfuly sent some data to your account on plotly. View your plot in your browser at https://plot.ly/~crissy/0 or inside your plot.ly account where it is named 'basic-bar'\n"
     ]
    },
    {
     "data": {
      "text/html": [
       "<iframe id=\"igraph\" scrolling=\"no\" style=\"border:none;\" seamless=\"seamless\" src=\"https://plot.ly/~crissy/0.embed\" height=\"525px\" width=\"100%\"></iframe>"
      ],
      "text/plain": [
       "<plotly.tools.PlotlyDisplay object>"
      ]
     },
     "execution_count": 31,
     "metadata": {},
     "output_type": "execute_result"
    }
   ],
   "source": [
    "import plotly.plotly as py\n",
    "py.sign_in('crissy', 'mqocxgkij9')\n",
    "\n",
    "import plotly.graph_objs as go\n",
    "\n",
    "data = [go.Bar(\n",
    "            x=ls_0,\n",
    "            y=ls_1\n",
    "    )]\n",
    "\n",
    "py.iplot(data, filename='basic-bar')\n"
   ]
  }
 ],
 "metadata": {
  "kernelspec": {
   "display_name": "Python 3",
   "language": "python",
   "name": "python3"
  },
  "language_info": {
   "codemirror_mode": {
    "name": "ipython",
    "version": 3
   },
   "file_extension": ".py",
   "mimetype": "text/x-python",
   "name": "python",
   "nbconvert_exporter": "python",
   "pygments_lexer": "ipython3",
   "version": "3.5.1"
  }
 },
 "nbformat": 4,
 "nbformat_minor": 0
}

{
 "cells": [
  {
   "cell_type": "markdown",
   "metadata": {
    "collapsed": true
   },
   "source": [
    "A chi si rivolge: ragazzi delle superiori\n",
    "\n",
    "Conoscenze pregresse: conoscenze di base di programmazione (sintassi)\n"
   ]
  },
  {
   "cell_type": "markdown",
   "metadata": {},
   "source": [
    "# Lezione 3\n",
    "## Manipolazione dei testi\n",
    "\n",
    "Vi siete mai chiesti se fosse possibile contare quale fosse la parola più ricorrente in un testo o quante volte una parola sia usata in un testo senza doverlo fare manualmente?\n",
    "In questa lezione vedremo come sia possibile fare questo con python: iniziamo col definire il testo sui cui vogliamo lavorare, definendo la variabile *testo*"
   ]
  },
  {
   "cell_type": "code",
   "execution_count": 1,
   "metadata": {
    "collapsed": true
   },
   "outputs": [],
   "source": [
    "testo = \"\"\"\n",
    "\n",
    "    Tu, io, come un attimo fa.\n",
    "\n",
    "    Nei miei sogni spero\n",
    "\n",
    "    E tu, io, immagine sospesa\n",
    "\n",
    "    Che non ho mai perso\n",
    "\n",
    "    Non c'è ostacolo oltre al nostro\n",
    "\n",
    "    Di dirsi la verità\n",
    "\n",
    "     \n",
    "\n",
    "    Io non ho mai smesso di crederci\n",
    "\n",
    "    So che adesso cambierà\n",
    "\n",
    "    E quei sorrisi che ho già perduto\n",
    "\n",
    "    Tu li prenderai, è come un attimo fa\n",
    "\n",
    "    Come un attimo fa \n",
    "\n",
    "     \n",
    "\n",
    "    Se non vedo quello che vedi tu\n",
    "\n",
    "    Per me è difficile, sai\n",
    "\n",
    "    Ma noi, poi, nel nostro viaggio\n",
    "\n",
    "    Cancelleremo i perché\n",
    "\n",
    "    Vedrai, questo tempo pagherà\n",
    "\n",
    "    So già che non finirà\n",
    "\n",
    "     \n",
    "\n",
    "    Io non ho mai smesso di crederci\n",
    "\n",
    "    So che questo cambierà\n",
    "\n",
    "    E quei sorrisi che ho già perduto\n",
    "\n",
    "    Tu li prenderai, è come un attimo fa\n",
    "\n",
    "    Come un attimo fa\n",
    "\n",
    "     \n",
    "\n",
    "    Quando poi ti volterai\n",
    "\n",
    "    pensa solamente a noi\n",
    "\n",
    "    non aver paura del dolore, amore\n",
    "\n",
    "    sono accanto a te\n",
    "\n",
    "    perché\n",
    "\n",
    "     \n",
    "\n",
    "    Io non ho mai smesso di crederci\n",
    "\n",
    "    Tutto adesso cambierà\n",
    "\n",
    "    Il nostro tempo, l'amore vissuto\n",
    "\n",
    "    Tu lo riabbraccerai\n",
    "\n",
    "    E' come un attimo fa, come un attimo fa\n",
    "\"\"\""
   ]
  },
  {
   "cell_type": "markdown",
   "metadata": {},
   "source": [
    "Chiediamo ora a python di *splittare* il testo, in modo che ogni parola venga considerata come elemento singolo di una lista e chiamiamo ciò che otteniamo *\"parole\"*"
   ]
  },
  {
   "cell_type": "code",
   "execution_count": 2,
   "metadata": {
    "collapsed": false,
    "scrolled": true
   },
   "outputs": [
    {
     "data": {
      "text/plain": [
       "['Tu,',\n",
       " 'io,',\n",
       " 'come',\n",
       " 'un',\n",
       " 'attimo',\n",
       " 'fa.',\n",
       " 'Nei',\n",
       " 'miei',\n",
       " 'sogni',\n",
       " 'spero',\n",
       " 'E',\n",
       " 'tu,',\n",
       " 'io,',\n",
       " 'immagine',\n",
       " 'sospesa',\n",
       " 'Che',\n",
       " 'non',\n",
       " 'ho',\n",
       " 'mai',\n",
       " 'perso',\n",
       " 'Non',\n",
       " \"c'è\",\n",
       " 'ostacolo',\n",
       " 'oltre',\n",
       " 'al',\n",
       " 'nostro',\n",
       " 'Di',\n",
       " 'dirsi',\n",
       " 'la',\n",
       " 'verità',\n",
       " 'Io',\n",
       " 'non',\n",
       " 'ho',\n",
       " 'mai',\n",
       " 'smesso',\n",
       " 'di',\n",
       " 'crederci',\n",
       " 'So',\n",
       " 'che',\n",
       " 'adesso',\n",
       " 'cambierà',\n",
       " 'E',\n",
       " 'quei',\n",
       " 'sorrisi',\n",
       " 'che',\n",
       " 'ho',\n",
       " 'già',\n",
       " 'perduto',\n",
       " 'Tu',\n",
       " 'li',\n",
       " 'prenderai,',\n",
       " 'è',\n",
       " 'come',\n",
       " 'un',\n",
       " 'attimo',\n",
       " 'fa',\n",
       " 'Come',\n",
       " 'un',\n",
       " 'attimo',\n",
       " 'fa',\n",
       " 'Se',\n",
       " 'non',\n",
       " 'vedo',\n",
       " 'quello',\n",
       " 'che',\n",
       " 'vedi',\n",
       " 'tu',\n",
       " 'Per',\n",
       " 'me',\n",
       " 'è',\n",
       " 'difficile,',\n",
       " 'sai',\n",
       " 'Ma',\n",
       " 'noi,',\n",
       " 'poi,',\n",
       " 'nel',\n",
       " 'nostro',\n",
       " 'viaggio',\n",
       " 'Cancelleremo',\n",
       " 'i',\n",
       " 'perché',\n",
       " 'Vedrai,',\n",
       " 'questo',\n",
       " 'tempo',\n",
       " 'pagherà',\n",
       " 'So',\n",
       " 'già',\n",
       " 'che',\n",
       " 'non',\n",
       " 'finirà',\n",
       " 'Io',\n",
       " 'non',\n",
       " 'ho',\n",
       " 'mai',\n",
       " 'smesso',\n",
       " 'di',\n",
       " 'crederci',\n",
       " 'So',\n",
       " 'che',\n",
       " 'questo',\n",
       " 'cambierà',\n",
       " 'E',\n",
       " 'quei',\n",
       " 'sorrisi',\n",
       " 'che',\n",
       " 'ho',\n",
       " 'già',\n",
       " 'perduto',\n",
       " 'Tu',\n",
       " 'li',\n",
       " 'prenderai,',\n",
       " 'è',\n",
       " 'come',\n",
       " 'un',\n",
       " 'attimo',\n",
       " 'fa',\n",
       " 'Come',\n",
       " 'un',\n",
       " 'attimo',\n",
       " 'fa',\n",
       " 'Quando',\n",
       " 'poi',\n",
       " 'ti',\n",
       " 'volterai',\n",
       " 'pensa',\n",
       " 'solamente',\n",
       " 'a',\n",
       " 'noi',\n",
       " 'non',\n",
       " 'aver',\n",
       " 'paura',\n",
       " 'del',\n",
       " 'dolore,',\n",
       " 'amore',\n",
       " 'sono',\n",
       " 'accanto',\n",
       " 'a',\n",
       " 'te',\n",
       " 'perché',\n",
       " 'Io',\n",
       " 'non',\n",
       " 'ho',\n",
       " 'mai',\n",
       " 'smesso',\n",
       " 'di',\n",
       " 'crederci',\n",
       " 'Tutto',\n",
       " 'adesso',\n",
       " 'cambierà',\n",
       " 'Il',\n",
       " 'nostro',\n",
       " 'tempo,',\n",
       " \"l'amore\",\n",
       " 'vissuto',\n",
       " 'Tu',\n",
       " 'lo',\n",
       " 'riabbraccerai',\n",
       " \"E'\",\n",
       " 'come',\n",
       " 'un',\n",
       " 'attimo',\n",
       " 'fa,',\n",
       " 'come',\n",
       " 'un',\n",
       " 'attimo',\n",
       " 'fa']"
      ]
     },
     "execution_count": 2,
     "metadata": {},
     "output_type": "execute_result"
    }
   ],
   "source": [
    "testo.split()"
   ]
  },
  {
   "cell_type": "code",
   "execution_count": 3,
   "metadata": {
    "collapsed": false
   },
   "outputs": [
    {
     "data": {
      "text/plain": [
       "1046"
      ]
     },
     "execution_count": 3,
     "metadata": {},
     "output_type": "execute_result"
    }
   ],
   "source": [
    "len(testo)"
   ]
  },
  {
   "cell_type": "code",
   "execution_count": 4,
   "metadata": {
    "collapsed": true
   },
   "outputs": [],
   "source": [
    "parole = testo.split()"
   ]
  },
  {
   "cell_type": "code",
   "execution_count": 5,
   "metadata": {
    "collapsed": false
   },
   "outputs": [
    {
     "data": {
      "text/plain": [
       "7"
      ]
     },
     "execution_count": 5,
     "metadata": {},
     "output_type": "execute_result"
    }
   ],
   "source": [
    "parole.count(\"attimo\")"
   ]
  },
  {
   "cell_type": "markdown",
   "metadata": {},
   "source": [
    "A questo punto, vogliamo che ogni parola venga considerata una volta sola, indipendentemente da quante volte sia ripetuta. Per fare questo, utilizziamo la funzione *set*"
   ]
  },
  {
   "cell_type": "code",
   "execution_count": 6,
   "metadata": {
    "collapsed": false,
    "scrolled": true
   },
   "outputs": [
    {
     "data": {
      "text/plain": [
       "{'Cancelleremo',\n",
       " 'Che',\n",
       " 'Come',\n",
       " 'Di',\n",
       " 'E',\n",
       " \"E'\",\n",
       " 'Il',\n",
       " 'Io',\n",
       " 'Ma',\n",
       " 'Nei',\n",
       " 'Non',\n",
       " 'Per',\n",
       " 'Quando',\n",
       " 'Se',\n",
       " 'So',\n",
       " 'Tu',\n",
       " 'Tu,',\n",
       " 'Tutto',\n",
       " 'Vedrai,',\n",
       " 'a',\n",
       " 'accanto',\n",
       " 'adesso',\n",
       " 'al',\n",
       " 'amore',\n",
       " 'attimo',\n",
       " 'aver',\n",
       " \"c'è\",\n",
       " 'cambierà',\n",
       " 'che',\n",
       " 'come',\n",
       " 'crederci',\n",
       " 'del',\n",
       " 'di',\n",
       " 'difficile,',\n",
       " 'dirsi',\n",
       " 'dolore,',\n",
       " 'fa',\n",
       " 'fa,',\n",
       " 'fa.',\n",
       " 'finirà',\n",
       " 'già',\n",
       " 'ho',\n",
       " 'i',\n",
       " 'immagine',\n",
       " 'io,',\n",
       " \"l'amore\",\n",
       " 'la',\n",
       " 'li',\n",
       " 'lo',\n",
       " 'mai',\n",
       " 'me',\n",
       " 'miei',\n",
       " 'nel',\n",
       " 'noi',\n",
       " 'noi,',\n",
       " 'non',\n",
       " 'nostro',\n",
       " 'oltre',\n",
       " 'ostacolo',\n",
       " 'pagherà',\n",
       " 'paura',\n",
       " 'pensa',\n",
       " 'perché',\n",
       " 'perduto',\n",
       " 'perso',\n",
       " 'poi',\n",
       " 'poi,',\n",
       " 'prenderai,',\n",
       " 'quei',\n",
       " 'quello',\n",
       " 'questo',\n",
       " 'riabbraccerai',\n",
       " 'sai',\n",
       " 'smesso',\n",
       " 'sogni',\n",
       " 'solamente',\n",
       " 'sono',\n",
       " 'sorrisi',\n",
       " 'sospesa',\n",
       " 'spero',\n",
       " 'te',\n",
       " 'tempo',\n",
       " 'tempo,',\n",
       " 'ti',\n",
       " 'tu',\n",
       " 'tu,',\n",
       " 'un',\n",
       " 'vedi',\n",
       " 'vedo',\n",
       " 'verità',\n",
       " 'viaggio',\n",
       " 'vissuto',\n",
       " 'volterai',\n",
       " 'è'}"
      ]
     },
     "execution_count": 6,
     "metadata": {},
     "output_type": "execute_result"
    }
   ],
   "source": [
    "set(parole)"
   ]
  },
  {
   "cell_type": "code",
   "execution_count": 10,
   "metadata": {
    "collapsed": false
   },
   "outputs": [
    {
     "data": {
      "text/plain": [
       "166"
      ]
     },
     "execution_count": 10,
     "metadata": {},
     "output_type": "execute_result"
    }
   ],
   "source": [
    "len(parole)"
   ]
  },
  {
   "cell_type": "code",
   "execution_count": 11,
   "metadata": {
    "collapsed": false
   },
   "outputs": [
    {
     "data": {
      "text/plain": [
       "94"
      ]
     },
     "execution_count": 11,
     "metadata": {},
     "output_type": "execute_result"
    }
   ],
   "source": [
    "len(set(parole))"
   ]
  },
  {
   "cell_type": "code",
   "execution_count": 8,
   "metadata": {
    "collapsed": false,
    "scrolled": true
   },
   "outputs": [
    {
     "data": {
      "text/plain": [
       "['Tu,',\n",
       " 'io,',\n",
       " 'come',\n",
       " 'un',\n",
       " 'attimo',\n",
       " 'fa.',\n",
       " 'Nei',\n",
       " 'miei',\n",
       " 'sogni',\n",
       " 'spero',\n",
       " 'E',\n",
       " 'tu,',\n",
       " 'io,',\n",
       " 'immagine',\n",
       " 'sospesa',\n",
       " 'Che',\n",
       " 'non',\n",
       " 'ho',\n",
       " 'mai',\n",
       " 'perso',\n",
       " 'Non',\n",
       " \"c'è\",\n",
       " 'ostacolo',\n",
       " 'oltre',\n",
       " 'al',\n",
       " 'nostro',\n",
       " 'Di',\n",
       " 'dirsi',\n",
       " 'la',\n",
       " 'verità',\n",
       " 'Io',\n",
       " 'non',\n",
       " 'ho',\n",
       " 'mai',\n",
       " 'smesso',\n",
       " 'di',\n",
       " 'crederci',\n",
       " 'So',\n",
       " 'che',\n",
       " 'adesso',\n",
       " 'cambierà',\n",
       " 'E',\n",
       " 'quei',\n",
       " 'sorrisi',\n",
       " 'che',\n",
       " 'ho',\n",
       " 'già',\n",
       " 'perduto',\n",
       " 'Tu',\n",
       " 'li',\n",
       " 'prenderai,',\n",
       " 'è',\n",
       " 'come',\n",
       " 'un',\n",
       " 'attimo',\n",
       " 'fa',\n",
       " 'Come',\n",
       " 'un',\n",
       " 'attimo',\n",
       " 'fa',\n",
       " 'Se',\n",
       " 'non',\n",
       " 'vedo',\n",
       " 'quello',\n",
       " 'che',\n",
       " 'vedi',\n",
       " 'tu',\n",
       " 'Per',\n",
       " 'me',\n",
       " 'è',\n",
       " 'difficile,',\n",
       " 'sai',\n",
       " 'Ma',\n",
       " 'noi,',\n",
       " 'poi,',\n",
       " 'nel',\n",
       " 'nostro',\n",
       " 'viaggio',\n",
       " 'Cancelleremo',\n",
       " 'i',\n",
       " 'perché',\n",
       " 'Vedrai,',\n",
       " 'questo',\n",
       " 'tempo',\n",
       " 'pagherà',\n",
       " 'So',\n",
       " 'già',\n",
       " 'che',\n",
       " 'non',\n",
       " 'finirà',\n",
       " 'Io',\n",
       " 'non',\n",
       " 'ho',\n",
       " 'mai',\n",
       " 'smesso',\n",
       " 'di',\n",
       " 'crederci',\n",
       " 'So',\n",
       " 'che',\n",
       " 'questo',\n",
       " 'cambierà',\n",
       " 'E',\n",
       " 'quei',\n",
       " 'sorrisi',\n",
       " 'che',\n",
       " 'ho',\n",
       " 'già',\n",
       " 'perduto',\n",
       " 'Tu',\n",
       " 'li',\n",
       " 'prenderai,',\n",
       " 'è',\n",
       " 'come',\n",
       " 'un',\n",
       " 'attimo',\n",
       " 'fa',\n",
       " 'Come',\n",
       " 'un',\n",
       " 'attimo',\n",
       " 'fa',\n",
       " 'Quando',\n",
       " 'poi',\n",
       " 'ti',\n",
       " 'volterai',\n",
       " 'pensa',\n",
       " 'solamente',\n",
       " 'a',\n",
       " 'noi',\n",
       " 'non',\n",
       " 'aver',\n",
       " 'paura',\n",
       " 'del',\n",
       " 'dolore,',\n",
       " 'amore',\n",
       " 'sono',\n",
       " 'accanto',\n",
       " 'a',\n",
       " 'te',\n",
       " 'perché',\n",
       " 'Io',\n",
       " 'non',\n",
       " 'ho',\n",
       " 'mai',\n",
       " 'smesso',\n",
       " 'di',\n",
       " 'crederci',\n",
       " 'Tutto',\n",
       " 'adesso',\n",
       " 'cambierà',\n",
       " 'Il',\n",
       " 'nostro',\n",
       " 'tempo,',\n",
       " \"l'amore\",\n",
       " 'vissuto',\n",
       " 'Tu',\n",
       " 'lo',\n",
       " 'riabbraccerai',\n",
       " \"E'\",\n",
       " 'come',\n",
       " 'un',\n",
       " 'attimo',\n",
       " 'fa,',\n",
       " 'come',\n",
       " 'un',\n",
       " 'attimo',\n",
       " 'fa']"
      ]
     },
     "execution_count": 8,
     "metadata": {},
     "output_type": "execute_result"
    }
   ],
   "source": [
    "[x for x in parole]"
   ]
  },
  {
   "cell_type": "code",
   "execution_count": 12,
   "metadata": {
    "collapsed": true
   },
   "outputs": [],
   "source": [
    "risultato =[[x,parole.count(x)] for x in set(parole)]"
   ]
  },
  {
   "cell_type": "markdown",
   "metadata": {},
   "source": [
    "Ora definiamo una variabile *\"risultato\"* che sia una lista di coppie che abbiano come primo elemento un elemento di parole (a cui viene eseguita la funzione *set*) e come secondo, il numero di volte che quell'elemento è presente nel testo"
   ]
  },
  {
   "cell_type": "code",
   "execution_count": 13,
   "metadata": {
    "collapsed": false,
    "scrolled": true
   },
   "outputs": [
    {
     "data": {
      "text/plain": [
       "[['viaggio', 1],\n",
       " ['io,', 2],\n",
       " ['pagherà', 1],\n",
       " ['perché', 2],\n",
       " ['tu,', 1],\n",
       " ['tu', 1],\n",
       " ['perduto', 2],\n",
       " ['li', 2],\n",
       " ['solamente', 1],\n",
       " ['fa,', 1],\n",
       " ['ostacolo', 1],\n",
       " ['paura', 1],\n",
       " [\"E'\", 1],\n",
       " ['fa', 5],\n",
       " [\"c'è\", 1],\n",
       " ['nel', 1],\n",
       " ['dolore,', 1],\n",
       " ['crederci', 3],\n",
       " ['fa.', 1],\n",
       " ['Nei', 1],\n",
       " ['ho', 6],\n",
       " ['nostro', 3],\n",
       " ['vedo', 1],\n",
       " ['sospesa', 1],\n",
       " ['riabbraccerai', 1],\n",
       " ['non', 7],\n",
       " ['difficile,', 1],\n",
       " ['dirsi', 1],\n",
       " ['perso', 1],\n",
       " ['è', 3],\n",
       " ['Vedrai,', 1],\n",
       " ['cambierà', 3],\n",
       " ['immagine', 1],\n",
       " ['verità', 1],\n",
       " ['mai', 4],\n",
       " ['tempo', 1],\n",
       " ['Quando', 1],\n",
       " ['amore', 1],\n",
       " ['sorrisi', 2],\n",
       " ['che', 6],\n",
       " ['quei', 2],\n",
       " ['prenderai,', 2],\n",
       " ['sai', 1],\n",
       " ['Tutto', 1],\n",
       " ['quello', 1],\n",
       " ['i', 1],\n",
       " ['te', 1],\n",
       " ['lo', 1],\n",
       " ['poi,', 1],\n",
       " ['Cancelleremo', 1],\n",
       " ['miei', 1],\n",
       " ['oltre', 1],\n",
       " [\"l'amore\", 1],\n",
       " ['del', 1],\n",
       " ['attimo', 7],\n",
       " ['come', 5],\n",
       " ['sono', 1],\n",
       " ['Io', 3],\n",
       " ['volterai', 1],\n",
       " ['Di', 1],\n",
       " ['Come', 2],\n",
       " ['accanto', 1],\n",
       " ['vedi', 1],\n",
       " ['So', 3],\n",
       " ['finirà', 1],\n",
       " ['sogni', 1],\n",
       " ['Ma', 1],\n",
       " ['me', 1],\n",
       " ['aver', 1],\n",
       " ['a', 2],\n",
       " ['ti', 1],\n",
       " ['pensa', 1],\n",
       " ['Per', 1],\n",
       " ['adesso', 2],\n",
       " ['già', 3],\n",
       " ['Se', 1],\n",
       " ['Tu', 3],\n",
       " ['questo', 2],\n",
       " ['Che', 1],\n",
       " ['spero', 1],\n",
       " ['di', 3],\n",
       " ['tempo,', 1],\n",
       " ['Il', 1],\n",
       " ['al', 1],\n",
       " ['noi', 1],\n",
       " ['noi,', 1],\n",
       " ['smesso', 3],\n",
       " ['Tu,', 1],\n",
       " ['Non', 1],\n",
       " ['E', 3],\n",
       " ['poi', 1],\n",
       " ['un', 7],\n",
       " ['la', 1],\n",
       " ['vissuto', 1]]"
      ]
     },
     "execution_count": 13,
     "metadata": {},
     "output_type": "execute_result"
    }
   ],
   "source": [
    "risultato"
   ]
  },
  {
   "cell_type": "code",
   "execution_count": 14,
   "metadata": {
    "collapsed": true
   },
   "outputs": [],
   "source": [
    "def soluzione(x):\n",
    "    return [x[1],x[0]]"
   ]
  },
  {
   "cell_type": "markdown",
   "metadata": {},
   "source": [
    "Definiamo una funzione che, dato un testo (*x*) ritorni una lista di due elementi, in cui il primo è quello che in *x* stava al secondo posto e il secondo è quello che stava al primo: in questo modo, data *soluzione* sulla prima coppia di *risultato*, otteniamo prima il numero di volte in cui la parola della prima coppia è ripetuta, e poi la parola"
   ]
  },
  {
   "cell_type": "code",
   "execution_count": 15,
   "metadata": {
    "collapsed": false
   },
   "outputs": [
    {
     "data": {
      "text/plain": [
       "[1, 'viaggio']"
      ]
     },
     "execution_count": 15,
     "metadata": {},
     "output_type": "execute_result"
    }
   ],
   "source": [
    "soluzione(risultato[0])"
   ]
  },
  {
   "cell_type": "code",
   "execution_count": 16,
   "metadata": {
    "collapsed": true
   },
   "outputs": [],
   "source": [
    "ultima_operazione=[soluzione(x) for x in risultato]"
   ]
  },
  {
   "cell_type": "markdown",
   "metadata": {},
   "source": [
    "Infine, chiamiamo *ultima_soluzione*, lista degli elementi di risultato a cui viene applicata *soluzione* e chiediamo a python di ordinarla in ordine crescente"
   ]
  },
  {
   "cell_type": "code",
   "execution_count": 17,
   "metadata": {
    "collapsed": true
   },
   "outputs": [],
   "source": [
    "ultima_operazione.sort()"
   ]
  },
  {
   "cell_type": "code",
   "execution_count": 18,
   "metadata": {
    "collapsed": false,
    "scrolled": true
   },
   "outputs": [
    {
     "data": {
      "text/plain": [
       "[[1, 'Cancelleremo'],\n",
       " [1, 'Che'],\n",
       " [1, 'Di'],\n",
       " [1, \"E'\"],\n",
       " [1, 'Il'],\n",
       " [1, 'Ma'],\n",
       " [1, 'Nei'],\n",
       " [1, 'Non'],\n",
       " [1, 'Per'],\n",
       " [1, 'Quando'],\n",
       " [1, 'Se'],\n",
       " [1, 'Tu,'],\n",
       " [1, 'Tutto'],\n",
       " [1, 'Vedrai,'],\n",
       " [1, 'accanto'],\n",
       " [1, 'al'],\n",
       " [1, 'amore'],\n",
       " [1, 'aver'],\n",
       " [1, \"c'è\"],\n",
       " [1, 'del'],\n",
       " [1, 'difficile,'],\n",
       " [1, 'dirsi'],\n",
       " [1, 'dolore,'],\n",
       " [1, 'fa,'],\n",
       " [1, 'fa.'],\n",
       " [1, 'finirà'],\n",
       " [1, 'i'],\n",
       " [1, 'immagine'],\n",
       " [1, \"l'amore\"],\n",
       " [1, 'la'],\n",
       " [1, 'lo'],\n",
       " [1, 'me'],\n",
       " [1, 'miei'],\n",
       " [1, 'nel'],\n",
       " [1, 'noi'],\n",
       " [1, 'noi,'],\n",
       " [1, 'oltre'],\n",
       " [1, 'ostacolo'],\n",
       " [1, 'pagherà'],\n",
       " [1, 'paura'],\n",
       " [1, 'pensa'],\n",
       " [1, 'perso'],\n",
       " [1, 'poi'],\n",
       " [1, 'poi,'],\n",
       " [1, 'quello'],\n",
       " [1, 'riabbraccerai'],\n",
       " [1, 'sai'],\n",
       " [1, 'sogni'],\n",
       " [1, 'solamente'],\n",
       " [1, 'sono'],\n",
       " [1, 'sospesa'],\n",
       " [1, 'spero'],\n",
       " [1, 'te'],\n",
       " [1, 'tempo'],\n",
       " [1, 'tempo,'],\n",
       " [1, 'ti'],\n",
       " [1, 'tu'],\n",
       " [1, 'tu,'],\n",
       " [1, 'vedi'],\n",
       " [1, 'vedo'],\n",
       " [1, 'verità'],\n",
       " [1, 'viaggio'],\n",
       " [1, 'vissuto'],\n",
       " [1, 'volterai'],\n",
       " [2, 'Come'],\n",
       " [2, 'a'],\n",
       " [2, 'adesso'],\n",
       " [2, 'io,'],\n",
       " [2, 'li'],\n",
       " [2, 'perché'],\n",
       " [2, 'perduto'],\n",
       " [2, 'prenderai,'],\n",
       " [2, 'quei'],\n",
       " [2, 'questo'],\n",
       " [2, 'sorrisi'],\n",
       " [3, 'E'],\n",
       " [3, 'Io'],\n",
       " [3, 'So'],\n",
       " [3, 'Tu'],\n",
       " [3, 'cambierà'],\n",
       " [3, 'crederci'],\n",
       " [3, 'di'],\n",
       " [3, 'già'],\n",
       " [3, 'nostro'],\n",
       " [3, 'smesso'],\n",
       " [3, 'è'],\n",
       " [4, 'mai'],\n",
       " [5, 'come'],\n",
       " [5, 'fa'],\n",
       " [6, 'che'],\n",
       " [6, 'ho'],\n",
       " [7, 'attimo'],\n",
       " [7, 'non'],\n",
       " [7, 'un']]"
      ]
     },
     "execution_count": 18,
     "metadata": {},
     "output_type": "execute_result"
    }
   ],
   "source": [
    "ultima_operazione"
   ]
  },
  {
   "cell_type": "code",
   "execution_count": 19,
   "metadata": {
    "collapsed": false
   },
   "outputs": [
    {
     "data": {
      "text/plain": [
       "'un'"
      ]
     },
     "execution_count": 19,
     "metadata": {},
     "output_type": "execute_result"
    }
   ],
   "source": [
    "ultima_operazione [-1][1]"
   ]
  },
  {
   "cell_type": "markdown",
   "metadata": {},
   "source": [
    "Chiamando *ultima_operazione [-1][1]*, quello che ci ritorna, è il secondo elemento dell'ultima coppia, cioè quello ripetuto più volte"
   ]
  },
  {
   "cell_type": "markdown",
   "metadata": {},
   "source": [
    "Possiamo definire una funzione che riassunga tutti i passaggi che abbiamo prima eseguito singolarmente, in questo modo:"
   ]
  },
  {
   "cell_type": "code",
   "execution_count": 20,
   "metadata": {
    "collapsed": true
   },
   "outputs": [],
   "source": [
    "def soluzione(x):\n",
    "    return [x[1],x[0]]\n",
    "def frequenza_parola(x):\n",
    "    x.split()\n",
    "    set(x.split())\n",
    "    parole = x.split()\n",
    "    risultato =[[x,parole.count(x)] for x in set(parole)]\n",
    "    ultima_operazione=[soluzione(x) for x in risultato]\n",
    "    ultima_operazione.sort()\n",
    "    return ultima_operazione [-1][1],ultima_operazione[-1][0]"
   ]
  },
  {
   "cell_type": "code",
   "execution_count": 21,
   "metadata": {
    "collapsed": true
   },
   "outputs": [],
   "source": [
    "x = \"\"\"\n",
    "\n",
    "    Tu, io, come un attimo fa.\n",
    "\n",
    "    Nei miei sogni spero\n",
    "\n",
    "    E tu, io, immagine sospesa\n",
    "\n",
    "    Che non ho mai perso\n",
    "\n",
    "    Non c'è ostacolo oltre al nostro\n",
    "\n",
    "    Di dirsi la verità\n",
    "\n",
    "     \n",
    "\n",
    "    Io non ho mai smesso di crederci\n",
    "\n",
    "    So che adesso cambierà\n",
    "\n",
    "    E quei sorrisi che ho già perduto\n",
    "\n",
    "    Tu li prenderai, è come un attimo fa\n",
    "\n",
    "    Come un attimo fa \n",
    "\n",
    "     \n",
    "\n",
    "    Se non vedo quello che vedi tu\n",
    "\n",
    "    Per me è difficile, sai\n",
    "\n",
    "    Ma noi, poi, nel nostro viaggio\n",
    "\n",
    "    Cancelleremo i perché\n",
    "\n",
    "    Vedrai, questo tempo pagherà\n",
    "\n",
    "    So già che non finirà\n",
    "\n",
    "     \n",
    "\n",
    "    Io non ho mai smesso di crederci\n",
    "\n",
    "    So che questo cambierà\n",
    "\n",
    "    E quei sorrisi che ho già perduto\n",
    "\n",
    "    Tu li prenderai, è come un attimo fa\n",
    "\n",
    "    Come un attimo fa\n",
    "\n",
    "     \n",
    "\n",
    "    Quando poi ti volterai\n",
    "\n",
    "    pensa solamente a noi\n",
    "\n",
    "    non aver paura del dolore, amore\n",
    "\n",
    "    sono accanto a te\n",
    "\n",
    "    perché\n",
    "\n",
    "     \n",
    "\n",
    "    Io non ho mai smesso di crederci\n",
    "\n",
    "    Tutto adesso cambierà\n",
    "\n",
    "    Il nostro tempo, l'amore vissuto\n",
    "\n",
    "    Tu lo riabbraccerai\n",
    "\n",
    "    E' come un attimo fa, come un attimo fa\n",
    "\"\"\""
   ]
  },
  {
   "cell_type": "code",
   "execution_count": 22,
   "metadata": {
    "collapsed": false
   },
   "outputs": [
    {
     "data": {
      "text/plain": [
       "('un', 7)"
      ]
     },
     "execution_count": 22,
     "metadata": {},
     "output_type": "execute_result"
    }
   ],
   "source": [
    "frequenza_parola(x)"
   ]
  },
  {
   "cell_type": "code",
   "execution_count": null,
   "metadata": {
    "collapsed": true
   },
   "outputs": [],
   "source": []
  }
 ],
 "metadata": {
  "kernelspec": {
   "display_name": "Python 3",
   "language": "python",
   "name": "python3"
  },
  "language_info": {
   "codemirror_mode": {
    "name": "ipython",
    "version": 3
   },
   "file_extension": ".py",
   "mimetype": "text/x-python",
   "name": "python",
   "nbconvert_exporter": "python",
   "pygments_lexer": "ipython3",
   "version": "3.5.1"
  }
 },
 "nbformat": 4,
 "nbformat_minor": 0
}
